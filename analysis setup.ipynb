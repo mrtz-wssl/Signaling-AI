{
 "cells": [
  {
   "cell_type": "code",
   "execution_count": 81,
   "metadata": {},
   "outputs": [],
   "source": [
    "# Imports\n",
    "import os\n",
    "import re\n",
    "import unicodedata\n",
    "from datetime import datetime\n",
    "from collections import Counter\n",
    "from IPython.core.interactiveshell import InteractiveShell\n",
    "\n",
    "\n",
    "\n",
    "import pandas as pd\n",
    "import numpy as np\n",
    "import matplotlib.pyplot as plt\n",
    "import seaborn as sns\n",
    "import plotly.express as px\n",
    "from ahocorasick import Automaton\n",
    "from scipy.stats import zscore\n",
    "from scipy.stats import mannwhitneyu\n",
    "\n",
    "\n",
    "import nltk\n",
    "from nltk.corpus import stopwords\n",
    "from nltk.tokenize import word_tokenize\n",
    "from nltk.stem import PorterStemmer\n",
    "\n",
    " \n",
    "#from gensim.models.phrases import Phrases, Phraser\n",
    "\n",
    "\n",
    "# Settings\n",
    "pd.set_option('display.max_rows', None)\n"
   ]
  },
  {
   "cell_type": "markdown",
   "metadata": {},
   "source": [
    "# Importing Data"
   ]
  },
  {
   "cell_type": "markdown",
   "metadata": {},
   "source": [
    "First I import and prepare the company- and the scraping dataframe."
   ]
  },
  {
   "cell_type": "code",
   "execution_count": 82,
   "metadata": {},
   "outputs": [
    {
     "name": "stdout",
     "output_type": "stream",
     "text": [
      "<class 'pandas.core.frame.DataFrame'>\n",
      "RangeIndex: 8367 entries, 0 to 8366\n",
      "Data columns (total 12 columns):\n",
      " #   Column                 Non-Null Count  Dtype  \n",
      "---  ------                 --------------  -----  \n",
      " 0   Unnamed: 0             8367 non-null   int64  \n",
      " 1   website                8367 non-null   object \n",
      " 2   text_len               8367 non-null   int64  \n",
      " 3   source                 8367 non-null   object \n",
      " 4   text                   8367 non-null   object \n",
      " 5   type                   8367 non-null   object \n",
      " 6   closest_snapshot       6596 non-null   object \n",
      " 7   closest_snapshot_time  6596 non-null   float64\n",
      " 8   snapshot_in_window     8367 non-null   int64  \n",
      " 9   text_preprocessed      8359 non-null   object \n",
      " 10  ai_keyword_count       8367 non-null   int64  \n",
      " 11  matched_keywords       1188 non-null   object \n",
      "dtypes: float64(1), int64(4), object(7)\n",
      "memory usage: 784.5+ KB\n"
     ]
    }
   ],
   "source": [
    "# Importing the scraped website data with keywords\n",
    "data_final = pd.read_excel('Documentation/Final Search Results.xlsx')\n",
    "data_final.info()"
   ]
  },
  {
   "cell_type": "code",
   "execution_count": 83,
   "metadata": {},
   "outputs": [
    {
     "name": "stdout",
     "output_type": "stream",
     "text": [
      "<class 'pandas.core.frame.DataFrame'>\n",
      "Index: 17982 entries, 0 to 3962\n",
      "Data columns (total 29 columns):\n",
      " #   Column                                  Non-Null Count  Dtype  \n",
      "---  ------                                  --------------  -----  \n",
      " 0   Unnamed: 0                              17982 non-null  int64  \n",
      " 1   company                                 17982 non-null  object \n",
      " 2   Founded Date                            17982 non-null  object \n",
      " 3   website                                 17982 non-null  object \n",
      " 4   Headquarters Location                   17982 non-null  object \n",
      " 5   Industry Groups                         17982 non-null  object \n",
      " 6   Industries                              17982 non-null  object \n",
      " 7   CB Rank (Company)                       17982 non-null  float64\n",
      " 8   Full Description                        11998 non-null  object \n",
      " 9   Number of Employees                     17982 non-null  object \n",
      " 10  Number of Funding Rounds                17982 non-null  float64\n",
      " 11  Funding Status                          5386 non-null   object \n",
      " 12  Last Funding Date                       5163 non-null   object \n",
      " 13  Last Funding Amount Currency (in USD)   17982 non-null  float64\n",
      " 14  Last Funding Type                       5163 non-null   object \n",
      " 15  Total Funding Amount Currency (in USD)  17982 non-null  float64\n",
      " 16  Number of Founders                      9488 non-null   float64\n",
      " 17  Number of Employees.1                   17982 non-null  object \n",
      " 18  IPO Status                              17982 non-null  object \n",
      " 19  IPO Date                                20 non-null     object \n",
      " 20  Valuation at IPO Currency (in USD)      5 non-null      float64\n",
      " 21  IPqwery - Patents Granted               2063 non-null   object \n",
      " 22  IPqwery - Trademarks Registered         2063 non-null   object \n",
      " 23  IPqwery - Most Popular Patent Class     351 non-null    object \n",
      " 24  NA Count                                17982 non-null  int64  \n",
      " 25  age                                     17982 non-null  int64  \n",
      " 26  founding_year                           17982 non-null  int64  \n",
      " 27  org_uuid                                17982 non-null  int64  \n",
      " 28  source                                  17982 non-null  int64  \n",
      "dtypes: float64(6), int64(6), object(17)\n",
      "memory usage: 4.1+ MB\n"
     ]
    },
    {
     "data": {
      "text/html": [
       "<div>\n",
       "<style scoped>\n",
       "    .dataframe tbody tr th:only-of-type {\n",
       "        vertical-align: middle;\n",
       "    }\n",
       "\n",
       "    .dataframe tbody tr th {\n",
       "        vertical-align: top;\n",
       "    }\n",
       "\n",
       "    .dataframe thead th {\n",
       "        text-align: right;\n",
       "    }\n",
       "</style>\n",
       "<table border=\"1\" class=\"dataframe\">\n",
       "  <thead>\n",
       "    <tr style=\"text-align: right;\">\n",
       "      <th></th>\n",
       "      <th>Unnamed: 0</th>\n",
       "      <th>company</th>\n",
       "      <th>Founded Date</th>\n",
       "      <th>website</th>\n",
       "      <th>Headquarters Location</th>\n",
       "      <th>Industry Groups</th>\n",
       "      <th>Industries</th>\n",
       "      <th>CB Rank (Company)</th>\n",
       "      <th>Full Description</th>\n",
       "      <th>Number of Employees</th>\n",
       "      <th>...</th>\n",
       "      <th>IPO Date</th>\n",
       "      <th>Valuation at IPO Currency (in USD)</th>\n",
       "      <th>IPqwery - Patents Granted</th>\n",
       "      <th>IPqwery - Trademarks Registered</th>\n",
       "      <th>IPqwery - Most Popular Patent Class</th>\n",
       "      <th>NA Count</th>\n",
       "      <th>age</th>\n",
       "      <th>founding_year</th>\n",
       "      <th>org_uuid</th>\n",
       "      <th>source</th>\n",
       "    </tr>\n",
       "  </thead>\n",
       "  <tbody>\n",
       "    <tr>\n",
       "      <th>0</th>\n",
       "      <td>1986</td>\n",
       "      <td>Okay</td>\n",
       "      <td>2019-01-01</td>\n",
       "      <td>https://www.okayhq.com/</td>\n",
       "      <td>San Francisco, California, United States</td>\n",
       "      <td>Data and Analytics, Internet Services, Software</td>\n",
       "      <td>Business Intelligence, Developer Tools, Intern...</td>\n",
       "      <td>23163.0</td>\n",
       "      <td>Okay offers dashboards and user-friendly workf...</td>\n",
       "      <td>101-250</td>\n",
       "      <td>...</td>\n",
       "      <td>NaN</td>\n",
       "      <td>NaN</td>\n",
       "      <td>NaN</td>\n",
       "      <td>NaN</td>\n",
       "      <td>NaN</td>\n",
       "      <td>0</td>\n",
       "      <td>5</td>\n",
       "      <td>2019</td>\n",
       "      <td>1947</td>\n",
       "      <td>0</td>\n",
       "    </tr>\n",
       "    <tr>\n",
       "      <th>1</th>\n",
       "      <td>101566</td>\n",
       "      <td>Code Builderz</td>\n",
       "      <td>2020-01-01</td>\n",
       "      <td>https://codebuilderz.com</td>\n",
       "      <td>Irvine, California, United States</td>\n",
       "      <td>Design, Sales and Marketing, Software</td>\n",
       "      <td>Digital Marketing, Software, Web Design, Web D...</td>\n",
       "      <td>3022667.0</td>\n",
       "      <td>Code Builderz is a software company that provi...</td>\n",
       "      <td>11-50</td>\n",
       "      <td>...</td>\n",
       "      <td>NaN</td>\n",
       "      <td>NaN</td>\n",
       "      <td>NaN</td>\n",
       "      <td>NaN</td>\n",
       "      <td>NaN</td>\n",
       "      <td>6</td>\n",
       "      <td>4</td>\n",
       "      <td>2020</td>\n",
       "      <td>88835</td>\n",
       "      <td>0</td>\n",
       "    </tr>\n",
       "    <tr>\n",
       "      <th>2</th>\n",
       "      <td>17422</td>\n",
       "      <td>PromptLayer</td>\n",
       "      <td>2021-08-01</td>\n",
       "      <td>https://www.promptlayer.com</td>\n",
       "      <td>New York, New York, United States</td>\n",
       "      <td>Software</td>\n",
       "      <td>Software</td>\n",
       "      <td>130969.0</td>\n",
       "      <td>NaN</td>\n",
       "      <td>1-10</td>\n",
       "      <td>...</td>\n",
       "      <td>NaN</td>\n",
       "      <td>NaN</td>\n",
       "      <td>0.0</td>\n",
       "      <td>0.0</td>\n",
       "      <td>NaN</td>\n",
       "      <td>2</td>\n",
       "      <td>2</td>\n",
       "      <td>2021</td>\n",
       "      <td>16596</td>\n",
       "      <td>0</td>\n",
       "    </tr>\n",
       "    <tr>\n",
       "      <th>3</th>\n",
       "      <td>82006</td>\n",
       "      <td>American Safety</td>\n",
       "      <td>2019-01-01</td>\n",
       "      <td>https://american-safetyllc.com</td>\n",
       "      <td>Belle Chasse, Louisiana, United States</td>\n",
       "      <td>Commerce and Shopping, Education, Manufacturing</td>\n",
       "      <td>Industrial, Rental, Training</td>\n",
       "      <td>2051287.0</td>\n",
       "      <td>NaN</td>\n",
       "      <td>51-100</td>\n",
       "      <td>...</td>\n",
       "      <td>NaN</td>\n",
       "      <td>NaN</td>\n",
       "      <td>NaN</td>\n",
       "      <td>NaN</td>\n",
       "      <td>NaN</td>\n",
       "      <td>6</td>\n",
       "      <td>5</td>\n",
       "      <td>2019</td>\n",
       "      <td>72521</td>\n",
       "      <td>0</td>\n",
       "    </tr>\n",
       "    <tr>\n",
       "      <th>4</th>\n",
       "      <td>58824</td>\n",
       "      <td>Nerdee's</td>\n",
       "      <td>2020-01-01</td>\n",
       "      <td>https://www.nerdees.com</td>\n",
       "      <td>Walnut, California, United States</td>\n",
       "      <td>Clothing and Apparel, Commerce and Shopping, C...</td>\n",
       "      <td>Apparel, E-Commerce, Fashion, Shoes</td>\n",
       "      <td>1038376.0</td>\n",
       "      <td>Nerdee's a seller of clothing, accessories, ga...</td>\n",
       "      <td>11-50</td>\n",
       "      <td>...</td>\n",
       "      <td>NaN</td>\n",
       "      <td>NaN</td>\n",
       "      <td>NaN</td>\n",
       "      <td>NaN</td>\n",
       "      <td>NaN</td>\n",
       "      <td>6</td>\n",
       "      <td>4</td>\n",
       "      <td>2020</td>\n",
       "      <td>52464</td>\n",
       "      <td>0</td>\n",
       "    </tr>\n",
       "  </tbody>\n",
       "</table>\n",
       "<p>5 rows × 29 columns</p>\n",
       "</div>"
      ],
      "text/plain": [
       "   Unnamed: 0          company Founded Date                         website  \\\n",
       "0        1986             Okay   2019-01-01         https://www.okayhq.com/   \n",
       "1      101566    Code Builderz   2020-01-01       https://codebuilderz.com    \n",
       "2       17422      PromptLayer   2021-08-01     https://www.promptlayer.com   \n",
       "3       82006  American Safety   2019-01-01  https://american-safetyllc.com   \n",
       "4       58824         Nerdee's   2020-01-01         https://www.nerdees.com   \n",
       "\n",
       "                      Headquarters Location  \\\n",
       "0  San Francisco, California, United States   \n",
       "1         Irvine, California, United States   \n",
       "2         New York, New York, United States   \n",
       "3    Belle Chasse, Louisiana, United States   \n",
       "4         Walnut, California, United States   \n",
       "\n",
       "                                     Industry Groups  \\\n",
       "0    Data and Analytics, Internet Services, Software   \n",
       "1              Design, Sales and Marketing, Software   \n",
       "2                                           Software   \n",
       "3    Commerce and Shopping, Education, Manufacturing   \n",
       "4  Clothing and Apparel, Commerce and Shopping, C...   \n",
       "\n",
       "                                          Industries  CB Rank (Company)  \\\n",
       "0  Business Intelligence, Developer Tools, Intern...            23163.0   \n",
       "1  Digital Marketing, Software, Web Design, Web D...          3022667.0   \n",
       "2                                           Software           130969.0   \n",
       "3                       Industrial, Rental, Training          2051287.0   \n",
       "4                Apparel, E-Commerce, Fashion, Shoes          1038376.0   \n",
       "\n",
       "                                    Full Description Number of Employees  ...  \\\n",
       "0  Okay offers dashboards and user-friendly workf...             101-250  ...   \n",
       "1  Code Builderz is a software company that provi...               11-50  ...   \n",
       "2                                                NaN                1-10  ...   \n",
       "3                                                NaN              51-100  ...   \n",
       "4  Nerdee's a seller of clothing, accessories, ga...               11-50  ...   \n",
       "\n",
       "   IPO Date Valuation at IPO Currency (in USD) IPqwery - Patents Granted  \\\n",
       "0       NaN                                NaN                       NaN   \n",
       "1       NaN                                NaN                       NaN   \n",
       "2       NaN                                NaN                       0.0   \n",
       "3       NaN                                NaN                       NaN   \n",
       "4       NaN                                NaN                       NaN   \n",
       "\n",
       "   IPqwery - Trademarks Registered IPqwery - Most Popular Patent Class  \\\n",
       "0                              NaN                                 NaN   \n",
       "1                              NaN                                 NaN   \n",
       "2                              0.0                                 NaN   \n",
       "3                              NaN                                 NaN   \n",
       "4                              NaN                                 NaN   \n",
       "\n",
       "   NA Count  age founding_year org_uuid source  \n",
       "0         0    5          2019     1947      0  \n",
       "1         6    4          2020    88835      0  \n",
       "2         2    2          2021    16596      0  \n",
       "3         6    5          2019    72521      0  \n",
       "4         6    4          2020    52464      0  \n",
       "\n",
       "[5 rows x 29 columns]"
      ]
     },
     "execution_count": 83,
     "metadata": {},
     "output_type": "execute_result"
    }
   ],
   "source": [
    "# Importing the company data\n",
    "cb = pd.read_csv('Data/Crunchbase/rand_sample_3.csv') # Random Sample\n",
    "cb_AI = pd.read_csv('Data/Crunchbase/cb_AI.csv') # Oversample \n",
    "\n",
    "# Adding a column to indicate the source of each scraped company\n",
    "cb['source'] = 0\n",
    "cb_AI['source'] = 1\n",
    "\n",
    "# Concatenating two company-dataframes\n",
    "cb = pd.concat([cb, cb_AI])\n",
    "cb = cb.drop_duplicates(subset = ['website'])\n",
    "\n",
    "# Displaying the information of the concatenated DataFrame\n",
    "cb.info()\n",
    "cb.head()"
   ]
  },
  {
   "cell_type": "markdown",
   "metadata": {},
   "source": [
    "Next, I merge the two dataframes into one for further analysis. "
   ]
  },
  {
   "cell_type": "code",
   "execution_count": 84,
   "metadata": {},
   "outputs": [
    {
     "name": "stdout",
     "output_type": "stream",
     "text": [
      "<class 'pandas.core.frame.DataFrame'>\n",
      "RangeIndex: 17982 entries, 0 to 17981\n",
      "Data columns (total 40 columns):\n",
      " #   Column                                  Non-Null Count  Dtype  \n",
      "---  ------                                  --------------  -----  \n",
      " 0   ID                                      17982 non-null  int64  \n",
      " 1   company                                 17982 non-null  object \n",
      " 2   Founded Date                            17982 non-null  object \n",
      " 3   website                                 17982 non-null  object \n",
      " 4   Headquarters Location                   17982 non-null  object \n",
      " 5   Industry Groups                         17982 non-null  object \n",
      " 6   Industries                              17982 non-null  object \n",
      " 7   CB Rank (Company)                       17982 non-null  float64\n",
      " 8   Full Description                        11998 non-null  object \n",
      " 9   Number of Employees                     17982 non-null  object \n",
      " 10  Number of Funding Rounds                17982 non-null  float64\n",
      " 11  Funding Status                          5386 non-null   object \n",
      " 12  Last Funding Date                       5163 non-null   object \n",
      " 13  Last Funding Amount Currency (in USD)   17982 non-null  float64\n",
      " 14  Last Funding Type                       5163 non-null   object \n",
      " 15  Total Funding Amount Currency (in USD)  17982 non-null  float64\n",
      " 16  Number of Founders                      9488 non-null   float64\n",
      " 17  Number of Employees.1                   17982 non-null  object \n",
      " 18  IPO Status                              17982 non-null  object \n",
      " 19  IPO Date                                20 non-null     object \n",
      " 20  Valuation at IPO Currency (in USD)      5 non-null      float64\n",
      " 21  IPqwery - Patents Granted               2063 non-null   object \n",
      " 22  IPqwery - Trademarks Registered         2063 non-null   object \n",
      " 23  IPqwery - Most Popular Patent Class     351 non-null    object \n",
      " 24  NA Count                                17982 non-null  int64  \n",
      " 25  age                                     17982 non-null  int64  \n",
      " 26  founding_year                           17982 non-null  int64  \n",
      " 27  org_uuid                                17982 non-null  int64  \n",
      " 28  source_x                                17982 non-null  int64  \n",
      " 29  Unnamed: 0                              8367 non-null   float64\n",
      " 30  text_len                                8367 non-null   float64\n",
      " 31  source_y                                8367 non-null   object \n",
      " 32  text                                    8367 non-null   object \n",
      " 33  type                                    8367 non-null   object \n",
      " 34  closest_snapshot                        6596 non-null   object \n",
      " 35  closest_snapshot_time                   6596 non-null   float64\n",
      " 36  snapshot_in_window                      8367 non-null   float64\n",
      " 37  text_preprocessed                       8359 non-null   object \n",
      " 38  ai_keyword_count                        8367 non-null   float64\n",
      " 39  matched_keywords                        1188 non-null   object \n",
      "dtypes: float64(11), int64(6), object(23)\n",
      "memory usage: 5.5+ MB\n"
     ]
    }
   ],
   "source": [
    "# Merging crunchbase data with scraped website texts\n",
    "cb.rename(columns = {'Website': 'website', 'Unnamed: 0': 'ID'}, inplace = True)\n",
    "df = pd.merge(cb, data_final , on = 'website', how = 'left')\n",
    "\n",
    "# Saving the dataframe\n",
    "df.to_csv('Data/Crunchbase/scrape_2.csv')\n",
    "df.info()"
   ]
  },
  {
   "cell_type": "markdown",
   "metadata": {},
   "source": [
    "Now, I perform some sanity checks to make sure that there is no erroneous companies. Further, I limit the dataframe to only include companies that have lesse than 2 funding rounds, as that would pose a strong signal and cut skew my analysis of AI-related keywords as weak signals. "
   ]
  },
  {
   "cell_type": "code",
   "execution_count": 85,
   "metadata": {},
   "outputs": [
    {
     "data": {
      "text/html": [
       "<div>\n",
       "<style scoped>\n",
       "    .dataframe tbody tr th:only-of-type {\n",
       "        vertical-align: middle;\n",
       "    }\n",
       "\n",
       "    .dataframe tbody tr th {\n",
       "        vertical-align: top;\n",
       "    }\n",
       "\n",
       "    .dataframe thead th {\n",
       "        text-align: right;\n",
       "    }\n",
       "</style>\n",
       "<table border=\"1\" class=\"dataframe\">\n",
       "  <thead>\n",
       "    <tr style=\"text-align: right;\">\n",
       "      <th></th>\n",
       "      <th>ID</th>\n",
       "      <th>company</th>\n",
       "      <th>Founded Date</th>\n",
       "      <th>website</th>\n",
       "      <th>Headquarters Location</th>\n",
       "      <th>Industry Groups</th>\n",
       "      <th>Industries</th>\n",
       "      <th>CB Rank (Company)</th>\n",
       "      <th>Full Description</th>\n",
       "      <th>Number of Employees</th>\n",
       "      <th>...</th>\n",
       "      <th>text_len</th>\n",
       "      <th>source_y</th>\n",
       "      <th>text</th>\n",
       "      <th>type</th>\n",
       "      <th>closest_snapshot</th>\n",
       "      <th>closest_snapshot_time</th>\n",
       "      <th>snapshot_in_window</th>\n",
       "      <th>text_preprocessed</th>\n",
       "      <th>ai_keyword_count</th>\n",
       "      <th>matched_keywords</th>\n",
       "    </tr>\n",
       "  </thead>\n",
       "  <tbody>\n",
       "    <tr>\n",
       "      <th>0</th>\n",
       "      <td>1986</td>\n",
       "      <td>Okay</td>\n",
       "      <td>2019-01-01</td>\n",
       "      <td>https://www.okayhq.com/</td>\n",
       "      <td>San Francisco, California, United States</td>\n",
       "      <td>Data and Analytics, Internet Services, Software</td>\n",
       "      <td>Business Intelligence, Developer Tools, Intern...</td>\n",
       "      <td>23163.0</td>\n",
       "      <td>Okay offers dashboards and user-friendly workf...</td>\n",
       "      <td>101-250</td>\n",
       "      <td>...</td>\n",
       "      <td>NaN</td>\n",
       "      <td>NaN</td>\n",
       "      <td>NaN</td>\n",
       "      <td>NaN</td>\n",
       "      <td>NaN</td>\n",
       "      <td>NaN</td>\n",
       "      <td>NaN</td>\n",
       "      <td>NaN</td>\n",
       "      <td>NaN</td>\n",
       "      <td>NaN</td>\n",
       "    </tr>\n",
       "    <tr>\n",
       "      <th>1</th>\n",
       "      <td>101566</td>\n",
       "      <td>Code Builderz</td>\n",
       "      <td>2020-01-01</td>\n",
       "      <td>https://codebuilderz.com</td>\n",
       "      <td>Irvine, California, United States</td>\n",
       "      <td>Design, Sales and Marketing, Software</td>\n",
       "      <td>Digital Marketing, Software, Web Design, Web D...</td>\n",
       "      <td>3022667.0</td>\n",
       "      <td>Code Builderz is a software company that provi...</td>\n",
       "      <td>11-50</td>\n",
       "      <td>...</td>\n",
       "      <td>NaN</td>\n",
       "      <td>NaN</td>\n",
       "      <td>NaN</td>\n",
       "      <td>NaN</td>\n",
       "      <td>NaN</td>\n",
       "      <td>NaN</td>\n",
       "      <td>NaN</td>\n",
       "      <td>NaN</td>\n",
       "      <td>NaN</td>\n",
       "      <td>NaN</td>\n",
       "    </tr>\n",
       "    <tr>\n",
       "      <th>2</th>\n",
       "      <td>17422</td>\n",
       "      <td>PromptLayer</td>\n",
       "      <td>2021-08-01</td>\n",
       "      <td>https://www.promptlayer.com</td>\n",
       "      <td>New York, New York, United States</td>\n",
       "      <td>Software</td>\n",
       "      <td>Software</td>\n",
       "      <td>130969.0</td>\n",
       "      <td>NaN</td>\n",
       "      <td>1-10</td>\n",
       "      <td>...</td>\n",
       "      <td>103.0</td>\n",
       "      <td>crunchbase</td>\n",
       "      <td>PromptLayer - The first platform built for pr...</td>\n",
       "      <td>startup</td>\n",
       "      <td>{'status': '200', 'available': True, 'url': 'h...</td>\n",
       "      <td>2.023010e+13</td>\n",
       "      <td>1.0</td>\n",
       "      <td>promptlayer first platform built prompt engine...</td>\n",
       "      <td>0.0</td>\n",
       "      <td>NaN</td>\n",
       "    </tr>\n",
       "    <tr>\n",
       "      <th>3</th>\n",
       "      <td>82006</td>\n",
       "      <td>American Safety</td>\n",
       "      <td>2019-01-01</td>\n",
       "      <td>https://american-safetyllc.com</td>\n",
       "      <td>Belle Chasse, Louisiana, United States</td>\n",
       "      <td>Commerce and Shopping, Education, Manufacturing</td>\n",
       "      <td>Industrial, Rental, Training</td>\n",
       "      <td>2051287.0</td>\n",
       "      <td>NaN</td>\n",
       "      <td>51-100</td>\n",
       "      <td>...</td>\n",
       "      <td>7306.0</td>\n",
       "      <td>crunchbase</td>\n",
       "      <td>About Us | American Safety LLC RESPONSE TEAMS ...</td>\n",
       "      <td>startup</td>\n",
       "      <td>{'status': '200', 'available': True, 'url': 'h...</td>\n",
       "      <td>2.020080e+13</td>\n",
       "      <td>1.0</td>\n",
       "      <td>us american safety llc response teams medical ...</td>\n",
       "      <td>0.0</td>\n",
       "      <td>NaN</td>\n",
       "    </tr>\n",
       "    <tr>\n",
       "      <th>4</th>\n",
       "      <td>58824</td>\n",
       "      <td>Nerdee's</td>\n",
       "      <td>2020-01-01</td>\n",
       "      <td>https://www.nerdees.com</td>\n",
       "      <td>Walnut, California, United States</td>\n",
       "      <td>Clothing and Apparel, Commerce and Shopping, C...</td>\n",
       "      <td>Apparel, E-Commerce, Fashion, Shoes</td>\n",
       "      <td>1038376.0</td>\n",
       "      <td>Nerdee's a seller of clothing, accessories, ga...</td>\n",
       "      <td>11-50</td>\n",
       "      <td>...</td>\n",
       "      <td>195537.0</td>\n",
       "      <td>crunchbase</td>\n",
       "      <td>Nerdee s Top Sellers Menu Page Nerdee s Deals ...</td>\n",
       "      <td>startup</td>\n",
       "      <td>{'status': '200', 'available': True, 'url': 'h...</td>\n",
       "      <td>2.020121e+13</td>\n",
       "      <td>1.0</td>\n",
       "      <td>nerdee top sellers menu page nerdee deals nerd...</td>\n",
       "      <td>0.0</td>\n",
       "      <td>NaN</td>\n",
       "    </tr>\n",
       "  </tbody>\n",
       "</table>\n",
       "<p>5 rows × 40 columns</p>\n",
       "</div>"
      ],
      "text/plain": [
       "       ID          company Founded Date                         website  \\\n",
       "0    1986             Okay   2019-01-01         https://www.okayhq.com/   \n",
       "1  101566    Code Builderz   2020-01-01       https://codebuilderz.com    \n",
       "2   17422      PromptLayer   2021-08-01     https://www.promptlayer.com   \n",
       "3   82006  American Safety   2019-01-01  https://american-safetyllc.com   \n",
       "4   58824         Nerdee's   2020-01-01         https://www.nerdees.com   \n",
       "\n",
       "                      Headquarters Location  \\\n",
       "0  San Francisco, California, United States   \n",
       "1         Irvine, California, United States   \n",
       "2         New York, New York, United States   \n",
       "3    Belle Chasse, Louisiana, United States   \n",
       "4         Walnut, California, United States   \n",
       "\n",
       "                                     Industry Groups  \\\n",
       "0    Data and Analytics, Internet Services, Software   \n",
       "1              Design, Sales and Marketing, Software   \n",
       "2                                           Software   \n",
       "3    Commerce and Shopping, Education, Manufacturing   \n",
       "4  Clothing and Apparel, Commerce and Shopping, C...   \n",
       "\n",
       "                                          Industries  CB Rank (Company)  \\\n",
       "0  Business Intelligence, Developer Tools, Intern...            23163.0   \n",
       "1  Digital Marketing, Software, Web Design, Web D...          3022667.0   \n",
       "2                                           Software           130969.0   \n",
       "3                       Industrial, Rental, Training          2051287.0   \n",
       "4                Apparel, E-Commerce, Fashion, Shoes          1038376.0   \n",
       "\n",
       "                                    Full Description Number of Employees  ...  \\\n",
       "0  Okay offers dashboards and user-friendly workf...             101-250  ...   \n",
       "1  Code Builderz is a software company that provi...               11-50  ...   \n",
       "2                                                NaN                1-10  ...   \n",
       "3                                                NaN              51-100  ...   \n",
       "4  Nerdee's a seller of clothing, accessories, ga...               11-50  ...   \n",
       "\n",
       "   text_len    source_y                                               text  \\\n",
       "0       NaN         NaN                                                NaN   \n",
       "1       NaN         NaN                                                NaN   \n",
       "2     103.0  crunchbase   PromptLayer - The first platform built for pr...   \n",
       "3    7306.0  crunchbase  About Us | American Safety LLC RESPONSE TEAMS ...   \n",
       "4  195537.0  crunchbase  Nerdee s Top Sellers Menu Page Nerdee s Deals ...   \n",
       "\n",
       "      type                                   closest_snapshot  \\\n",
       "0      NaN                                                NaN   \n",
       "1      NaN                                                NaN   \n",
       "2  startup  {'status': '200', 'available': True, 'url': 'h...   \n",
       "3  startup  {'status': '200', 'available': True, 'url': 'h...   \n",
       "4  startup  {'status': '200', 'available': True, 'url': 'h...   \n",
       "\n",
       "   closest_snapshot_time  snapshot_in_window  \\\n",
       "0                    NaN                 NaN   \n",
       "1                    NaN                 NaN   \n",
       "2           2.023010e+13                 1.0   \n",
       "3           2.020080e+13                 1.0   \n",
       "4           2.020121e+13                 1.0   \n",
       "\n",
       "                                   text_preprocessed ai_keyword_count  \\\n",
       "0                                                NaN              NaN   \n",
       "1                                                NaN              NaN   \n",
       "2  promptlayer first platform built prompt engine...              0.0   \n",
       "3  us american safety llc response teams medical ...              0.0   \n",
       "4  nerdee top sellers menu page nerdee deals nerd...              0.0   \n",
       "\n",
       "  matched_keywords  \n",
       "0              NaN  \n",
       "1              NaN  \n",
       "2              NaN  \n",
       "3              NaN  \n",
       "4              NaN  \n",
       "\n",
       "[5 rows x 40 columns]"
      ]
     },
     "execution_count": 85,
     "metadata": {},
     "output_type": "execute_result"
    }
   ],
   "source": [
    "df.head()"
   ]
  },
  {
   "cell_type": "code",
   "execution_count": 86,
   "metadata": {},
   "outputs": [
    {
     "name": "stdout",
     "output_type": "stream",
     "text": [
      "Number of valid companies 7964\n"
     ]
    }
   ],
   "source": [
    "# Converting dates to the datetime format\n",
    "df['Founded Date'] = pd.to_datetime(df['Founded Date'])\n",
    "df['Last Funding Date'] = pd.to_datetime(df['Last Funding Date'])\n",
    "\n",
    "# Removing companies with more than 2 funding rounds\n",
    "df = df[df['Number of Funding Rounds'] < 2]\n",
    "\n",
    "# Dropping companies with missing website text\n",
    "df.dropna(subset = 'text', inplace = True)\n",
    "\n",
    "# Checking the resulting dataframe\n",
    "print(f\"Number of valid companies {len(df)}\")"
   ]
  },
  {
   "cell_type": "markdown",
   "metadata": {},
   "source": [
    "Selecting only the startups relevant for my analysis, I am left with the following dataframe:"
   ]
  },
  {
   "cell_type": "code",
   "execution_count": 87,
   "metadata": {},
   "outputs": [
    {
     "name": "stdout",
     "output_type": "stream",
     "text": [
      "<class 'pandas.core.frame.DataFrame'>\n",
      "Index: 7964 entries, 2 to 17978\n",
      "Data columns (total 40 columns):\n",
      " #   Column                                  Non-Null Count  Dtype         \n",
      "---  ------                                  --------------  -----         \n",
      " 0   ID                                      7964 non-null   int64         \n",
      " 1   company                                 7964 non-null   object        \n",
      " 2   Founded Date                            7964 non-null   datetime64[ns]\n",
      " 3   website                                 7964 non-null   object        \n",
      " 4   Headquarters Location                   7964 non-null   object        \n",
      " 5   Industry Groups                         7964 non-null   object        \n",
      " 6   Industries                              7964 non-null   object        \n",
      " 7   CB Rank (Company)                       7964 non-null   float64       \n",
      " 8   Full Description                        4794 non-null   object        \n",
      " 9   Number of Employees                     7964 non-null   object        \n",
      " 10  Number of Funding Rounds                7964 non-null   float64       \n",
      " 11  Funding Status                          1170 non-null   object        \n",
      " 12  Last Funding Date                       1046 non-null   datetime64[ns]\n",
      " 13  Last Funding Amount Currency (in USD)   7964 non-null   float64       \n",
      " 14  Last Funding Type                       1046 non-null   object        \n",
      " 15  Total Funding Amount Currency (in USD)  7964 non-null   float64       \n",
      " 16  Number of Founders                      3559 non-null   float64       \n",
      " 17  Number of Employees.1                   7964 non-null   object        \n",
      " 18  IPO Status                              7964 non-null   object        \n",
      " 19  IPO Date                                7 non-null      object        \n",
      " 20  Valuation at IPO Currency (in USD)      1 non-null      float64       \n",
      " 21  IPqwery - Patents Granted               661 non-null    object        \n",
      " 22  IPqwery - Trademarks Registered         661 non-null    object        \n",
      " 23  IPqwery - Most Popular Patent Class     94 non-null     object        \n",
      " 24  NA Count                                7964 non-null   int64         \n",
      " 25  age                                     7964 non-null   int64         \n",
      " 26  founding_year                           7964 non-null   int64         \n",
      " 27  org_uuid                                7964 non-null   int64         \n",
      " 28  source_x                                7964 non-null   int64         \n",
      " 29  Unnamed: 0                              7964 non-null   float64       \n",
      " 30  text_len                                7964 non-null   float64       \n",
      " 31  source_y                                7964 non-null   object        \n",
      " 32  text                                    7964 non-null   object        \n",
      " 33  type                                    7964 non-null   object        \n",
      " 34  closest_snapshot                        6245 non-null   object        \n",
      " 35  closest_snapshot_time                   6245 non-null   float64       \n",
      " 36  snapshot_in_window                      7964 non-null   float64       \n",
      " 37  text_preprocessed                       7956 non-null   object        \n",
      " 38  ai_keyword_count                        7964 non-null   float64       \n",
      " 39  matched_keywords                        1088 non-null   object        \n",
      "dtypes: datetime64[ns](2), float64(11), int64(6), object(21)\n",
      "memory usage: 2.5+ MB\n"
     ]
    }
   ],
   "source": [
    "df.info()"
   ]
  },
  {
   "cell_type": "markdown",
   "metadata": {},
   "source": [
    "# Feature Engineering"
   ]
  },
  {
   "cell_type": "markdown",
   "metadata": {},
   "source": [
    "## Derivative Features\n",
    "Based on existing features, I derive the following new features."
   ]
  },
  {
   "cell_type": "code",
   "execution_count": 88,
   "metadata": {},
   "outputs": [],
   "source": [
    "df['Headquarters State'] = df['Headquarters Location'].str.split(', ').str[1]\n"
   ]
  },
  {
   "cell_type": "markdown",
   "metadata": {},
   "source": [
    "## Binary Conversions\n",
    "To draw better conclusions on the general effects of AI on funding success, I also introduce binary features for: \n",
    "- Funding (1 = received funding)\n",
    "- AI (1 = industry group contains \"Artificial Intelligence\")\n",
    "- Keywords (1 = AI-related keywords identified in website text)\n",
    "- Series A (1 = company reached series A)\n",
    "- Funding Success (1 = company gets second funding) \n",
    "\n",
    "These are all added next to the alreadyaa created binary indicator for use of AI ('keyword_bin')"
   ]
  },
  {
   "cell_type": "code",
   "execution_count": 89,
   "metadata": {},
   "outputs": [],
   "source": [
    "# Adding binary variable for funding (1 = received funding, 0 = no funding)\n",
    "df['funding_bin'] = np.where(df['Total Funding Amount Currency (in USD)'] > 0, 1, 0)\n",
    "df['funding_bin'] = df['funding_bin'].astype(bool)\n",
    "\n",
    "# Adding binary variable for having AI-related keywords in their website text\n",
    "df['keyword_bin'] = np.where(df['ai_keyword_count'] >0, 1, 0)\n",
    "df['keyword_bin'] = df['keyword_bin'].astype(bool)\n",
    "\n",
    "# Adding binary variable for getting a second round of funding\n",
    "df['fund_success'] = np.where(df['Last Funding Amount Currency (in USD)'] < df['Total Funding Amount Currency (in USD)'], 1, 0)\n",
    "df['fund_success'] = df['fund_success'].astype(bool)\n",
    "\n",
    "# Adding binary variable for having 'Artificial Intelligence' as industry group\n",
    "df['AI_bin'] = df['Industry Groups'].apply(lambda x: 1 if \"Artificial Intelligence\" in str(x) else 0)\n",
    "df['AI_bin'] = df['AI_bin'].astype(bool)\n",
    "\n",
    "# Converting snapshot_in_window to binary type\n",
    "df['snapshot_in_window'] = df['snapshot_in_window'].astype(bool)"
   ]
  },
  {
   "cell_type": "code",
   "execution_count": 90,
   "metadata": {},
   "outputs": [
    {
     "data": {
      "text/html": [
       "<div>\n",
       "<style scoped>\n",
       "    .dataframe tbody tr th:only-of-type {\n",
       "        vertical-align: middle;\n",
       "    }\n",
       "\n",
       "    .dataframe tbody tr th {\n",
       "        vertical-align: top;\n",
       "    }\n",
       "\n",
       "    .dataframe thead th {\n",
       "        text-align: right;\n",
       "    }\n",
       "</style>\n",
       "<table border=\"1\" class=\"dataframe\">\n",
       "  <thead>\n",
       "    <tr style=\"text-align: right;\">\n",
       "      <th></th>\n",
       "      <th>ID</th>\n",
       "      <th>company</th>\n",
       "      <th>Founded Date</th>\n",
       "      <th>website</th>\n",
       "      <th>Headquarters Location</th>\n",
       "      <th>Industry Groups</th>\n",
       "      <th>Industries</th>\n",
       "      <th>CB Rank (Company)</th>\n",
       "      <th>Full Description</th>\n",
       "      <th>Number of Employees</th>\n",
       "      <th>...</th>\n",
       "      <th>closest_snapshot_time</th>\n",
       "      <th>snapshot_in_window</th>\n",
       "      <th>text_preprocessed</th>\n",
       "      <th>ai_keyword_count</th>\n",
       "      <th>matched_keywords</th>\n",
       "      <th>Headquarters State</th>\n",
       "      <th>funding_bin</th>\n",
       "      <th>keyword_bin</th>\n",
       "      <th>fund_success</th>\n",
       "      <th>AI_bin</th>\n",
       "    </tr>\n",
       "  </thead>\n",
       "  <tbody>\n",
       "    <tr>\n",
       "      <th>2</th>\n",
       "      <td>17422</td>\n",
       "      <td>PromptLayer</td>\n",
       "      <td>2021-08-01</td>\n",
       "      <td>https://www.promptlayer.com</td>\n",
       "      <td>New York, New York, United States</td>\n",
       "      <td>Software</td>\n",
       "      <td>Software</td>\n",
       "      <td>130969.0</td>\n",
       "      <td>NaN</td>\n",
       "      <td>1-10</td>\n",
       "      <td>...</td>\n",
       "      <td>2.023010e+13</td>\n",
       "      <td>True</td>\n",
       "      <td>promptlayer first platform built prompt engine...</td>\n",
       "      <td>0.0</td>\n",
       "      <td>NaN</td>\n",
       "      <td>New York</td>\n",
       "      <td>False</td>\n",
       "      <td>False</td>\n",
       "      <td>False</td>\n",
       "      <td>False</td>\n",
       "    </tr>\n",
       "    <tr>\n",
       "      <th>3</th>\n",
       "      <td>82006</td>\n",
       "      <td>American Safety</td>\n",
       "      <td>2019-01-01</td>\n",
       "      <td>https://american-safetyllc.com</td>\n",
       "      <td>Belle Chasse, Louisiana, United States</td>\n",
       "      <td>Commerce and Shopping, Education, Manufacturing</td>\n",
       "      <td>Industrial, Rental, Training</td>\n",
       "      <td>2051287.0</td>\n",
       "      <td>NaN</td>\n",
       "      <td>51-100</td>\n",
       "      <td>...</td>\n",
       "      <td>2.020080e+13</td>\n",
       "      <td>True</td>\n",
       "      <td>us american safety llc response teams medical ...</td>\n",
       "      <td>0.0</td>\n",
       "      <td>NaN</td>\n",
       "      <td>Louisiana</td>\n",
       "      <td>False</td>\n",
       "      <td>False</td>\n",
       "      <td>False</td>\n",
       "      <td>False</td>\n",
       "    </tr>\n",
       "    <tr>\n",
       "      <th>4</th>\n",
       "      <td>58824</td>\n",
       "      <td>Nerdee's</td>\n",
       "      <td>2020-01-01</td>\n",
       "      <td>https://www.nerdees.com</td>\n",
       "      <td>Walnut, California, United States</td>\n",
       "      <td>Clothing and Apparel, Commerce and Shopping, C...</td>\n",
       "      <td>Apparel, E-Commerce, Fashion, Shoes</td>\n",
       "      <td>1038376.0</td>\n",
       "      <td>Nerdee's a seller of clothing, accessories, ga...</td>\n",
       "      <td>11-50</td>\n",
       "      <td>...</td>\n",
       "      <td>2.020121e+13</td>\n",
       "      <td>True</td>\n",
       "      <td>nerdee top sellers menu page nerdee deals nerd...</td>\n",
       "      <td>0.0</td>\n",
       "      <td>NaN</td>\n",
       "      <td>California</td>\n",
       "      <td>False</td>\n",
       "      <td>False</td>\n",
       "      <td>False</td>\n",
       "      <td>False</td>\n",
       "    </tr>\n",
       "    <tr>\n",
       "      <th>6</th>\n",
       "      <td>58333</td>\n",
       "      <td>Ziegel</td>\n",
       "      <td>2018-07-06</td>\n",
       "      <td>https://www.ziegel.es</td>\n",
       "      <td>Playa Del Rey, California, United States</td>\n",
       "      <td>Real Estate</td>\n",
       "      <td>Real Estate</td>\n",
       "      <td>987441.0</td>\n",
       "      <td>We offer support, infrastructures and conditio...</td>\n",
       "      <td>51-100</td>\n",
       "      <td>...</td>\n",
       "      <td>2.020081e+13</td>\n",
       "      <td>True</td>\n",
       "      <td>ziegelianos vendemos juntos aqui conoceras nue...</td>\n",
       "      <td>0.0</td>\n",
       "      <td>NaN</td>\n",
       "      <td>California</td>\n",
       "      <td>False</td>\n",
       "      <td>False</td>\n",
       "      <td>False</td>\n",
       "      <td>False</td>\n",
       "    </tr>\n",
       "    <tr>\n",
       "      <th>10</th>\n",
       "      <td>25169</td>\n",
       "      <td>Lodestar</td>\n",
       "      <td>2019-08-01</td>\n",
       "      <td>https://www.lodestar.ai</td>\n",
       "      <td>San Jose, California, United States</td>\n",
       "      <td>Artificial Intelligence (AI), Data and Analyti...</td>\n",
       "      <td>Artificial Intelligence (AI), Computer Vision,...</td>\n",
       "      <td>216067.0</td>\n",
       "      <td>With Lodestar you can annotate video far faste...</td>\n",
       "      <td>11-50</td>\n",
       "      <td>...</td>\n",
       "      <td>NaN</td>\n",
       "      <td>False</td>\n",
       "      <td>lodestar coming soon lodestar provides best wa...</td>\n",
       "      <td>0.0</td>\n",
       "      <td>NaN</td>\n",
       "      <td>California</td>\n",
       "      <td>False</td>\n",
       "      <td>False</td>\n",
       "      <td>False</td>\n",
       "      <td>True</td>\n",
       "    </tr>\n",
       "  </tbody>\n",
       "</table>\n",
       "<p>5 rows × 45 columns</p>\n",
       "</div>"
      ],
      "text/plain": [
       "       ID          company Founded Date                         website  \\\n",
       "2   17422      PromptLayer   2021-08-01     https://www.promptlayer.com   \n",
       "3   82006  American Safety   2019-01-01  https://american-safetyllc.com   \n",
       "4   58824         Nerdee's   2020-01-01         https://www.nerdees.com   \n",
       "6   58333           Ziegel   2018-07-06           https://www.ziegel.es   \n",
       "10  25169         Lodestar   2019-08-01         https://www.lodestar.ai   \n",
       "\n",
       "                       Headquarters Location  \\\n",
       "2          New York, New York, United States   \n",
       "3     Belle Chasse, Louisiana, United States   \n",
       "4          Walnut, California, United States   \n",
       "6   Playa Del Rey, California, United States   \n",
       "10       San Jose, California, United States   \n",
       "\n",
       "                                      Industry Groups  \\\n",
       "2                                            Software   \n",
       "3     Commerce and Shopping, Education, Manufacturing   \n",
       "4   Clothing and Apparel, Commerce and Shopping, C...   \n",
       "6                                         Real Estate   \n",
       "10  Artificial Intelligence (AI), Data and Analyti...   \n",
       "\n",
       "                                           Industries  CB Rank (Company)  \\\n",
       "2                                            Software           130969.0   \n",
       "3                        Industrial, Rental, Training          2051287.0   \n",
       "4                 Apparel, E-Commerce, Fashion, Shoes          1038376.0   \n",
       "6                                         Real Estate           987441.0   \n",
       "10  Artificial Intelligence (AI), Computer Vision,...           216067.0   \n",
       "\n",
       "                                     Full Description Number of Employees  \\\n",
       "2                                                 NaN                1-10   \n",
       "3                                                 NaN              51-100   \n",
       "4   Nerdee's a seller of clothing, accessories, ga...               11-50   \n",
       "6   We offer support, infrastructures and conditio...              51-100   \n",
       "10  With Lodestar you can annotate video far faste...               11-50   \n",
       "\n",
       "    ...  closest_snapshot_time snapshot_in_window  \\\n",
       "2   ...           2.023010e+13               True   \n",
       "3   ...           2.020080e+13               True   \n",
       "4   ...           2.020121e+13               True   \n",
       "6   ...           2.020081e+13               True   \n",
       "10  ...                    NaN              False   \n",
       "\n",
       "                                    text_preprocessed  ai_keyword_count  \\\n",
       "2   promptlayer first platform built prompt engine...               0.0   \n",
       "3   us american safety llc response teams medical ...               0.0   \n",
       "4   nerdee top sellers menu page nerdee deals nerd...               0.0   \n",
       "6   ziegelianos vendemos juntos aqui conoceras nue...               0.0   \n",
       "10  lodestar coming soon lodestar provides best wa...               0.0   \n",
       "\n",
       "   matched_keywords  Headquarters State  funding_bin keyword_bin fund_success  \\\n",
       "2               NaN            New York        False       False        False   \n",
       "3               NaN           Louisiana        False       False        False   \n",
       "4               NaN          California        False       False        False   \n",
       "6               NaN          California        False       False        False   \n",
       "10              NaN          California        False       False        False   \n",
       "\n",
       "   AI_bin  \n",
       "2   False  \n",
       "3   False  \n",
       "4   False  \n",
       "6   False  \n",
       "10   True  \n",
       "\n",
       "[5 rows x 45 columns]"
      ]
     },
     "execution_count": 90,
     "metadata": {},
     "output_type": "execute_result"
    }
   ],
   "source": [
    "df.head()"
   ]
  },
  {
   "cell_type": "markdown",
   "metadata": {},
   "source": [
    "## Dummy Variables\n",
    "Next, I create dummy variables for the founding year to account for possible general market conditions as a control variable."
   ]
  },
  {
   "cell_type": "code",
   "execution_count": 91,
   "metadata": {},
   "outputs": [],
   "source": [
    "# Converting 'Founded Date' to datetime\n",
    "df['Founded Date'] = pd.to_datetime(df['Founded Date'])\n",
    "df['Last Funding Date'] = pd.to_datetime(df['Last Funding Date'])\n",
    "df['closest_snapshot_time'] = pd.to_datetime(df['closest_snapshot_time'])\n",
    "\n",
    "# Extracting the year from the 'Founded Date' column\n",
    "df['Founded Year'] = df['Founded Date'].dt.year\n",
    "\n",
    "# Creating Dummies for founding year\n",
    "founded_year_dummies = pd.get_dummies(df['Founded Year'], prefix='Year')\n",
    "\n",
    "# Concatenating the new dummy variables with the original DataFrame\n",
    "df = pd.concat([df, founded_year_dummies], axis=1)"
   ]
  },
  {
   "cell_type": "markdown",
   "metadata": {},
   "source": [
    "## Rescaling\n",
    "### Last Funding Type\n",
    "To further improve the quantification of a start-up's success, I rescale the feature 'Last Funding Type' ordinal values."
   ]
  },
  {
   "cell_type": "code",
   "execution_count": 92,
   "metadata": {},
   "outputs": [
    {
     "data": {
      "image/png": "[encoded data removed]",
      "text/plain": [
       "<Figure size 1000x800 with 1 Axes>"
      ]
     },
     "metadata": {},
     "output_type": "display_data"
    },
    {
     "name": "stdout",
     "output_type": "stream",
     "text": [
      "Number of each funding type: \n"
     ]
    },
    {
     "data": {
      "text/plain": [
       "Last Funding Type\n",
       "Pre-Seed    503\n",
       "Seed        501\n",
       "Series A     38\n",
       "Series B      3\n",
       "Series D      1\n",
       "Name: count, dtype: int64"
      ]
     },
     "metadata": {},
     "output_type": "display_data"
    }
   ],
   "source": [
    "# Counting the occurrences of each funding type\n",
    "funding_type_counts = df['Last Funding Type'].value_counts()\n",
    "\n",
    "# Creating a bar plot\n",
    "plt.figure(figsize=(10, 8))\n",
    "ax = funding_type_counts.plot(kind='bar', color='darkgreen')\n",
    "\n",
    "# Adding the number of companies on top of the barscount_df\n",
    "for p in ax.patches:\n",
    "    ax.annotate(str(p.get_height()), (p.get_x() * 1.005, p.get_height() * 1.005), fontsize=12)\n",
    "\n",
    "# Setting title and labels with Times New Roman font\n",
    "plt.title('Number of Each Funding Type')\n",
    "plt.xlabel('Funding Type')\n",
    "plt.ylabel('Occurrences')\n",
    "plt.xticks()\n",
    "plt.show()\n",
    "\n",
    "print('Number of each funding type: ')\n",
    "display(funding_type_counts)"
   ]
  },
  {
   "cell_type": "code",
   "execution_count": 93,
   "metadata": {},
   "outputs": [
    {
     "name": "stderr",
     "output_type": "stream",
     "text": [
      "/var/folders/xt/0h_f_zjs1hvcdg6rdl1hs5_c0000gn/T/ipykernel_89900/952003956.py:12: FutureWarning:\n",
      "\n",
      "Downcasting behavior in `replace` is deprecated and will be removed in a future version. To retain the old behavior, explicitly call `result.infer_objects(copy=False)`. To opt-in to the future behavior, set `pd.set_option('future.no_silent_downcasting', True)`\n",
      "\n"
     ]
    }
   ],
   "source": [
    "# Applying an ordinal scale to 'Last Funding Type'\n",
    "scale_mapper = {\n",
    "'Pre-Seed': 1,\n",
    "'Seed': 2,\n",
    "'Series A': 3,\n",
    "'Series B': 4, \n",
    "'Series C': 5,\n",
    "'Series D': 6,  \n",
    "'Series E': 7     \n",
    "    }\n",
    "\n",
    "df['Last Funding Type ORD'] = df['Last Funding Type'].replace(scale_mapper)"
   ]
  },
  {
   "cell_type": "code",
   "execution_count": 94,
   "metadata": {},
   "outputs": [
    {
     "name": "stdout",
     "output_type": "stream",
     "text": [
      "<class 'pandas.core.frame.DataFrame'>\n",
      "Index: 7964 entries, 2 to 17978\n",
      "Data columns (total 52 columns):\n",
      " #   Column                                  Non-Null Count  Dtype         \n",
      "---  ------                                  --------------  -----         \n",
      " 0   ID                                      7964 non-null   int64         \n",
      " 1   company                                 7964 non-null   object        \n",
      " 2   Founded Date                            7964 non-null   datetime64[ns]\n",
      " 3   website                                 7964 non-null   object        \n",
      " 4   Headquarters Location                   7964 non-null   object        \n",
      " 5   Industry Groups                         7964 non-null   object        \n",
      " 6   Industries                              7964 non-null   object        \n",
      " 7   CB Rank (Company)                       7964 non-null   float64       \n",
      " 8   Full Description                        4794 non-null   object        \n",
      " 9   Number of Employees                     7964 non-null   object        \n",
      " 10  Number of Funding Rounds                7964 non-null   float64       \n",
      " 11  Funding Status                          1170 non-null   object        \n",
      " 12  Last Funding Date                       1046 non-null   datetime64[ns]\n",
      " 13  Last Funding Amount Currency (in USD)   7964 non-null   float64       \n",
      " 14  Last Funding Type                       1046 non-null   object        \n",
      " 15  Total Funding Amount Currency (in USD)  7964 non-null   float64       \n",
      " 16  Number of Founders                      3559 non-null   float64       \n",
      " 17  Number of Employees.1                   7964 non-null   object        \n",
      " 18  IPO Status                              7964 non-null   object        \n",
      " 19  IPO Date                                7 non-null      object        \n",
      " 20  Valuation at IPO Currency (in USD)      1 non-null      float64       \n",
      " 21  IPqwery - Patents Granted               661 non-null    object        \n",
      " 22  IPqwery - Trademarks Registered         661 non-null    object        \n",
      " 23  IPqwery - Most Popular Patent Class     94 non-null     object        \n",
      " 24  NA Count                                7964 non-null   int64         \n",
      " 25  age                                     7964 non-null   int64         \n",
      " 26  founding_year                           7964 non-null   int64         \n",
      " 27  org_uuid                                7964 non-null   int64         \n",
      " 28  source_x                                7964 non-null   int64         \n",
      " 29  Unnamed: 0                              7964 non-null   float64       \n",
      " 30  text_len                                7964 non-null   float64       \n",
      " 31  source_y                                7964 non-null   object        \n",
      " 32  text                                    7964 non-null   object        \n",
      " 33  type                                    7964 non-null   object        \n",
      " 34  closest_snapshot                        6245 non-null   object        \n",
      " 35  closest_snapshot_time                   6245 non-null   datetime64[ns]\n",
      " 36  snapshot_in_window                      7964 non-null   bool          \n",
      " 37  text_preprocessed                       7956 non-null   object        \n",
      " 38  ai_keyword_count                        7964 non-null   float64       \n",
      " 39  matched_keywords                        1088 non-null   object        \n",
      " 40  Headquarters State                      7964 non-null   object        \n",
      " 41  funding_bin                             7964 non-null   bool          \n",
      " 42  keyword_bin                             7964 non-null   bool          \n",
      " 43  fund_success                            7964 non-null   bool          \n",
      " 44  AI_bin                                  7964 non-null   bool          \n",
      " 45  Founded Year                            7964 non-null   int32         \n",
      " 46  Year_2018                               7964 non-null   bool          \n",
      " 47  Year_2019                               7964 non-null   bool          \n",
      " 48  Year_2020                               7964 non-null   bool          \n",
      " 49  Year_2021                               7964 non-null   bool          \n",
      " 50  Year_2022                               7964 non-null   bool          \n",
      " 51  Last Funding Type ORD                   1046 non-null   float64       \n",
      "dtypes: bool(10), datetime64[ns](3), float64(10), int32(1), int64(6), object(22)\n",
      "memory usage: 2.7+ MB\n"
     ]
    }
   ],
   "source": [
    "df.info()"
   ]
  },
  {
   "cell_type": "code",
   "execution_count": 95,
   "metadata": {},
   "outputs": [],
   "source": [
    "# Adding binary variable for reaching Series A (1 = series A reached)\n",
    "df['Series_A_bin'] = np.where(df['Last Funding Type ORD'] > 2, 1, 0)\n",
    "df['Series_A_bin'] = df['Series_A_bin'].astype(bool)"
   ]
  },
  {
   "cell_type": "markdown",
   "metadata": {},
   "source": [
    "### Number of Employees"
   ]
  },
  {
   "cell_type": "code",
   "execution_count": 96,
   "metadata": {},
   "outputs": [
    {
     "data": {
      "text/plain": [
       "array(['1-10', '51-100', '11-50', '101-250', '251-500', '10001+',\n",
       "       '501-1000', '1001-5000', '5001-10000'], dtype=object)"
      ]
     },
     "execution_count": 96,
     "metadata": {},
     "output_type": "execute_result"
    }
   ],
   "source": [
    "df['Number of Employees'].unique()"
   ]
  },
  {
   "cell_type": "code",
   "execution_count": 97,
   "metadata": {},
   "outputs": [],
   "source": [
    "# Defining the mapping\n",
    "ordinal_map = {\n",
    "    '1-10': 1,\n",
    "    '11-50': 2,\n",
    "    '51-100': 3,\n",
    "    '101-250': 4,\n",
    "    '251-500': 5,\n",
    "    '501-1000': 6,\n",
    "    '1001-5000': 7,\n",
    "    '5001 - 10000': 9,\n",
    "    '10001+': 8\n",
    "}\n",
    "\n",
    "# Applying the mapping\n",
    "df['Number of Employees ORD'] = df['Number of Employees'].map(ordinal_map)"
   ]
  },
  {
   "cell_type": "code",
   "execution_count": 98,
   "metadata": {},
   "outputs": [
    {
     "data": {
      "image/png": "[encoded data removed]",
      "text/plain": [
       "<Figure size 3000x800 with 1 Axes>"
      ]
     },
     "metadata": {},
     "output_type": "display_data"
    }
   ],
   "source": [
    "# Counting all values of column 'Number of Employees'\n",
    "employee_counts = df['Number of Employees'].value_counts()\n",
    "\n",
    "# Creating a bar plot\n",
    "plt.figure(figsize=(30, 8))\n",
    "employee_counts.plot(kind='bar', color = 'darkgreen')\n",
    "plt.title('Frequency of each Group of Numbers of Employees')\n",
    "plt.xlabel('Number of Employees')\n",
    "plt.ylabel('Occurrences')\n",
    "plt.xticks(rotation=45)\n",
    "plt.show()"
   ]
  },
  {
   "cell_type": "markdown",
   "metadata": {},
   "source": [
    "# Data Cleaning"
   ]
  },
  {
   "cell_type": "code",
   "execution_count": 99,
   "metadata": {},
   "outputs": [
    {
     "data": {
      "text/html": [
       "<div>\n",
       "<style scoped>\n",
       "    .dataframe tbody tr th:only-of-type {\n",
       "        vertical-align: middle;\n",
       "    }\n",
       "\n",
       "    .dataframe tbody tr th {\n",
       "        vertical-align: top;\n",
       "    }\n",
       "\n",
       "    .dataframe thead th {\n",
       "        text-align: right;\n",
       "    }\n",
       "</style>\n",
       "<table border=\"1\" class=\"dataframe\">\n",
       "  <thead>\n",
       "    <tr style=\"text-align: right;\">\n",
       "      <th></th>\n",
       "      <th>ID</th>\n",
       "      <th>company</th>\n",
       "      <th>Founded Date</th>\n",
       "      <th>website</th>\n",
       "      <th>Headquarters Location</th>\n",
       "      <th>Industry Groups</th>\n",
       "      <th>Industries</th>\n",
       "      <th>CB Rank (Company)</th>\n",
       "      <th>Full Description</th>\n",
       "      <th>Number of Employees</th>\n",
       "      <th>...</th>\n",
       "      <th>AI_bin</th>\n",
       "      <th>Founded Year</th>\n",
       "      <th>Year_2018</th>\n",
       "      <th>Year_2019</th>\n",
       "      <th>Year_2020</th>\n",
       "      <th>Year_2021</th>\n",
       "      <th>Year_2022</th>\n",
       "      <th>Last Funding Type ORD</th>\n",
       "      <th>Series_A_bin</th>\n",
       "      <th>Number of Employees ORD</th>\n",
       "    </tr>\n",
       "  </thead>\n",
       "  <tbody>\n",
       "    <tr>\n",
       "      <th>2</th>\n",
       "      <td>17422</td>\n",
       "      <td>PromptLayer</td>\n",
       "      <td>2021-08-01</td>\n",
       "      <td>https://www.promptlayer.com</td>\n",
       "      <td>New York, New York, United States</td>\n",
       "      <td>Software</td>\n",
       "      <td>Software</td>\n",
       "      <td>130969.0</td>\n",
       "      <td>NaN</td>\n",
       "      <td>1-10</td>\n",
       "      <td>...</td>\n",
       "      <td>False</td>\n",
       "      <td>2021</td>\n",
       "      <td>False</td>\n",
       "      <td>False</td>\n",
       "      <td>False</td>\n",
       "      <td>True</td>\n",
       "      <td>False</td>\n",
       "      <td>1.0</td>\n",
       "      <td>False</td>\n",
       "      <td>1.0</td>\n",
       "    </tr>\n",
       "    <tr>\n",
       "      <th>3</th>\n",
       "      <td>82006</td>\n",
       "      <td>American Safety</td>\n",
       "      <td>2019-01-01</td>\n",
       "      <td>https://american-safetyllc.com</td>\n",
       "      <td>Belle Chasse, Louisiana, United States</td>\n",
       "      <td>Commerce and Shopping, Education, Manufacturing</td>\n",
       "      <td>Industrial, Rental, Training</td>\n",
       "      <td>2051287.0</td>\n",
       "      <td>NaN</td>\n",
       "      <td>51-100</td>\n",
       "      <td>...</td>\n",
       "      <td>False</td>\n",
       "      <td>2019</td>\n",
       "      <td>False</td>\n",
       "      <td>True</td>\n",
       "      <td>False</td>\n",
       "      <td>False</td>\n",
       "      <td>False</td>\n",
       "      <td>NaN</td>\n",
       "      <td>False</td>\n",
       "      <td>3.0</td>\n",
       "    </tr>\n",
       "    <tr>\n",
       "      <th>4</th>\n",
       "      <td>58824</td>\n",
       "      <td>Nerdee's</td>\n",
       "      <td>2020-01-01</td>\n",
       "      <td>https://www.nerdees.com</td>\n",
       "      <td>Walnut, California, United States</td>\n",
       "      <td>Clothing and Apparel, Commerce and Shopping, C...</td>\n",
       "      <td>Apparel, E-Commerce, Fashion, Shoes</td>\n",
       "      <td>1038376.0</td>\n",
       "      <td>Nerdee's a seller of clothing, accessories, ga...</td>\n",
       "      <td>11-50</td>\n",
       "      <td>...</td>\n",
       "      <td>False</td>\n",
       "      <td>2020</td>\n",
       "      <td>False</td>\n",
       "      <td>False</td>\n",
       "      <td>True</td>\n",
       "      <td>False</td>\n",
       "      <td>False</td>\n",
       "      <td>NaN</td>\n",
       "      <td>False</td>\n",
       "      <td>2.0</td>\n",
       "    </tr>\n",
       "    <tr>\n",
       "      <th>6</th>\n",
       "      <td>58333</td>\n",
       "      <td>Ziegel</td>\n",
       "      <td>2018-07-06</td>\n",
       "      <td>https://www.ziegel.es</td>\n",
       "      <td>Playa Del Rey, California, United States</td>\n",
       "      <td>Real Estate</td>\n",
       "      <td>Real Estate</td>\n",
       "      <td>987441.0</td>\n",
       "      <td>We offer support, infrastructures and conditio...</td>\n",
       "      <td>51-100</td>\n",
       "      <td>...</td>\n",
       "      <td>False</td>\n",
       "      <td>2018</td>\n",
       "      <td>True</td>\n",
       "      <td>False</td>\n",
       "      <td>False</td>\n",
       "      <td>False</td>\n",
       "      <td>False</td>\n",
       "      <td>NaN</td>\n",
       "      <td>False</td>\n",
       "      <td>3.0</td>\n",
       "    </tr>\n",
       "    <tr>\n",
       "      <th>10</th>\n",
       "      <td>25169</td>\n",
       "      <td>Lodestar</td>\n",
       "      <td>2019-08-01</td>\n",
       "      <td>https://www.lodestar.ai</td>\n",
       "      <td>San Jose, California, United States</td>\n",
       "      <td>Artificial Intelligence (AI), Data and Analyti...</td>\n",
       "      <td>Artificial Intelligence (AI), Computer Vision,...</td>\n",
       "      <td>216067.0</td>\n",
       "      <td>With Lodestar you can annotate video far faste...</td>\n",
       "      <td>11-50</td>\n",
       "      <td>...</td>\n",
       "      <td>True</td>\n",
       "      <td>2019</td>\n",
       "      <td>False</td>\n",
       "      <td>True</td>\n",
       "      <td>False</td>\n",
       "      <td>False</td>\n",
       "      <td>False</td>\n",
       "      <td>NaN</td>\n",
       "      <td>False</td>\n",
       "      <td>2.0</td>\n",
       "    </tr>\n",
       "  </tbody>\n",
       "</table>\n",
       "<p>5 rows × 54 columns</p>\n",
       "</div>"
      ],
      "text/plain": [
       "       ID          company Founded Date                         website  \\\n",
       "2   17422      PromptLayer   2021-08-01     https://www.promptlayer.com   \n",
       "3   82006  American Safety   2019-01-01  https://american-safetyllc.com   \n",
       "4   58824         Nerdee's   2020-01-01         https://www.nerdees.com   \n",
       "6   58333           Ziegel   2018-07-06           https://www.ziegel.es   \n",
       "10  25169         Lodestar   2019-08-01         https://www.lodestar.ai   \n",
       "\n",
       "                       Headquarters Location  \\\n",
       "2          New York, New York, United States   \n",
       "3     Belle Chasse, Louisiana, United States   \n",
       "4          Walnut, California, United States   \n",
       "6   Playa Del Rey, California, United States   \n",
       "10       San Jose, California, United States   \n",
       "\n",
       "                                      Industry Groups  \\\n",
       "2                                            Software   \n",
       "3     Commerce and Shopping, Education, Manufacturing   \n",
       "4   Clothing and Apparel, Commerce and Shopping, C...   \n",
       "6                                         Real Estate   \n",
       "10  Artificial Intelligence (AI), Data and Analyti...   \n",
       "\n",
       "                                           Industries  CB Rank (Company)  \\\n",
       "2                                            Software           130969.0   \n",
       "3                        Industrial, Rental, Training          2051287.0   \n",
       "4                 Apparel, E-Commerce, Fashion, Shoes          1038376.0   \n",
       "6                                         Real Estate           987441.0   \n",
       "10  Artificial Intelligence (AI), Computer Vision,...           216067.0   \n",
       "\n",
       "                                     Full Description Number of Employees  \\\n",
       "2                                                 NaN                1-10   \n",
       "3                                                 NaN              51-100   \n",
       "4   Nerdee's a seller of clothing, accessories, ga...               11-50   \n",
       "6   We offer support, infrastructures and conditio...              51-100   \n",
       "10  With Lodestar you can annotate video far faste...               11-50   \n",
       "\n",
       "    ...  AI_bin Founded Year Year_2018  Year_2019 Year_2020  Year_2021  \\\n",
       "2   ...   False         2021     False      False     False       True   \n",
       "3   ...   False         2019     False       True     False      False   \n",
       "4   ...   False         2020     False      False      True      False   \n",
       "6   ...   False         2018      True      False     False      False   \n",
       "10  ...    True         2019     False       True     False      False   \n",
       "\n",
       "    Year_2022 Last Funding Type ORD Series_A_bin Number of Employees ORD  \n",
       "2       False                   1.0        False                     1.0  \n",
       "3       False                   NaN        False                     3.0  \n",
       "4       False                   NaN        False                     2.0  \n",
       "6       False                   NaN        False                     3.0  \n",
       "10      False                   NaN        False                     2.0  \n",
       "\n",
       "[5 rows x 54 columns]"
      ]
     },
     "execution_count": 99,
     "metadata": {},
     "output_type": "execute_result"
    }
   ],
   "source": [
    "df.head()"
   ]
  },
  {
   "cell_type": "code",
   "execution_count": 100,
   "metadata": {},
   "outputs": [],
   "source": [
    "# Filling NAs for columns where data is not misisng at random\n",
    "df['Total Funding Amount Currency (in USD)'] = df['Total Funding Amount Currency (in USD)'].fillna(0)\n",
    "df['ai_keyword_count'] = df['ai_keyword_count'].fillna(0)\n",
    "df['matched_keywords'] = df['matched_keywords'].fillna(0)\n",
    "df['Last Funding Type ORD'] = df['Last Funding Type ORD'].fillna(0)"
   ]
  },
  {
   "cell_type": "code",
   "execution_count": 101,
   "metadata": {},
   "outputs": [],
   "source": [
    "# Creating copies of the final full dataframe to use later for other purposes where all features could be relevant\n",
    "descriptive_df = df.copy()\n",
    "scraped_df = df.copy()"
   ]
  },
  {
   "cell_type": "code",
   "execution_count": 102,
   "metadata": {},
   "outputs": [
    {
     "name": "stdout",
     "output_type": "stream",
     "text": [
      "<class 'pandas.core.frame.DataFrame'>\n",
      "Index: 7964 entries, 2 to 17978\n",
      "Data columns (total 25 columns):\n",
      " #   Column                                  Non-Null Count  Dtype         \n",
      "---  ------                                  --------------  -----         \n",
      " 0   Founded Date                            7964 non-null   datetime64[ns]\n",
      " 1   Industry Groups                         7964 non-null   object        \n",
      " 2   Number of Funding Rounds                7964 non-null   float64       \n",
      " 3   Last Funding Amount Currency (in USD)   7964 non-null   float64       \n",
      " 4   Total Funding Amount Currency (in USD)  7964 non-null   float64       \n",
      " 5   age                                     7964 non-null   int64         \n",
      " 6   founding_year                           7964 non-null   int64         \n",
      " 7   source_x                                7964 non-null   int64         \n",
      " 8   text_len                                7964 non-null   float64       \n",
      " 9   closest_snapshot                        6245 non-null   object        \n",
      " 10  ai_keyword_count                        7964 non-null   float64       \n",
      " 11  matched_keywords                        7964 non-null   object        \n",
      " 12  Headquarters State                      7964 non-null   object        \n",
      " 13  funding_bin                             7964 non-null   bool          \n",
      " 14  keyword_bin                             7964 non-null   bool          \n",
      " 15  fund_success                            7964 non-null   bool          \n",
      " 16  AI_bin                                  7964 non-null   bool          \n",
      " 17  Year_2018                               7964 non-null   bool          \n",
      " 18  Year_2019                               7964 non-null   bool          \n",
      " 19  Year_2020                               7964 non-null   bool          \n",
      " 20  Year_2021                               7964 non-null   bool          \n",
      " 21  Year_2022                               7964 non-null   bool          \n",
      " 22  Last Funding Type ORD                   7964 non-null   float64       \n",
      " 23  Series_A_bin                            7964 non-null   bool          \n",
      " 24  Number of Employees ORD                 7960 non-null   float64       \n",
      "dtypes: bool(10), datetime64[ns](1), float64(7), int64(3), object(4)\n",
      "memory usage: 1.0+ MB\n"
     ]
    }
   ],
   "source": [
    "# Removing Features irrelevant to the analysis \n",
    "columns_to_drop = [\n",
    "    \"ID\", \"company\", \"website\", \"Headquarters Location\", \"Industries\",\n",
    "    \"CB Rank (Company)\", \"Full Description\", \"Funding Status\", \"Last Funding Date\", \"Last Funding Type\",\n",
    "    \"Number of Founders\",\"Number of Employees\", \"Number of Employees.1\", \"IPO Status\", \"IPO Date\", \"Valuation at IPO Currency (in USD)\",\n",
    "    \"IPqwery - Patents Granted\", \"IPqwery - Trademarks Registered\", \"IPqwery - Most Popular Patent Class\",\n",
    "    \"org_uuid\", \"Unnamed: 0\", \"source_y\", \"text\", \"type\",\n",
    "    #\"closest_snapshot\", \n",
    "    \"closest_snapshot_time\",\n",
    "    \"snapshot_in_window\",'text_preprocessed',  \"Founded Year\", \n",
    "    \"NA Count\", \n",
    "    #'timestamp'\n",
    "]\n",
    "\n",
    "df = df.drop(columns=columns_to_drop)\n",
    "\n",
    "# Checking the final dataframe\n",
    "df.info()"
   ]
  },
  {
   "cell_type": "code",
   "execution_count": 103,
   "metadata": {},
   "outputs": [
    {
     "data": {
      "text/html": [
       "<div>\n",
       "<style scoped>\n",
       "    .dataframe tbody tr th:only-of-type {\n",
       "        vertical-align: middle;\n",
       "    }\n",
       "\n",
       "    .dataframe tbody tr th {\n",
       "        vertical-align: top;\n",
       "    }\n",
       "\n",
       "    .dataframe thead th {\n",
       "        text-align: right;\n",
       "    }\n",
       "</style>\n",
       "<table border=\"1\" class=\"dataframe\">\n",
       "  <thead>\n",
       "    <tr style=\"text-align: right;\">\n",
       "      <th></th>\n",
       "      <th>Founded Date</th>\n",
       "      <th>Industry Groups</th>\n",
       "      <th>Number of Funding Rounds</th>\n",
       "      <th>Last Funding Amount Currency (in USD)</th>\n",
       "      <th>Total Funding Amount Currency (in USD)</th>\n",
       "      <th>age</th>\n",
       "      <th>founding_year</th>\n",
       "      <th>source_x</th>\n",
       "      <th>text_len</th>\n",
       "      <th>closest_snapshot</th>\n",
       "      <th>...</th>\n",
       "      <th>fund_success</th>\n",
       "      <th>AI_bin</th>\n",
       "      <th>Year_2018</th>\n",
       "      <th>Year_2019</th>\n",
       "      <th>Year_2020</th>\n",
       "      <th>Year_2021</th>\n",
       "      <th>Year_2022</th>\n",
       "      <th>Last Funding Type ORD</th>\n",
       "      <th>Series_A_bin</th>\n",
       "      <th>Number of Employees ORD</th>\n",
       "    </tr>\n",
       "  </thead>\n",
       "  <tbody>\n",
       "    <tr>\n",
       "      <th>2</th>\n",
       "      <td>2021-08-01</td>\n",
       "      <td>Software</td>\n",
       "      <td>1.0</td>\n",
       "      <td>0.0</td>\n",
       "      <td>0.0</td>\n",
       "      <td>2</td>\n",
       "      <td>2021</td>\n",
       "      <td>0</td>\n",
       "      <td>103.0</td>\n",
       "      <td>{'status': '200', 'available': True, 'url': 'h...</td>\n",
       "      <td>...</td>\n",
       "      <td>False</td>\n",
       "      <td>False</td>\n",
       "      <td>False</td>\n",
       "      <td>False</td>\n",
       "      <td>False</td>\n",
       "      <td>True</td>\n",
       "      <td>False</td>\n",
       "      <td>1.0</td>\n",
       "      <td>False</td>\n",
       "      <td>1.0</td>\n",
       "    </tr>\n",
       "    <tr>\n",
       "      <th>3</th>\n",
       "      <td>2019-01-01</td>\n",
       "      <td>Commerce and Shopping, Education, Manufacturing</td>\n",
       "      <td>0.0</td>\n",
       "      <td>0.0</td>\n",
       "      <td>0.0</td>\n",
       "      <td>5</td>\n",
       "      <td>2019</td>\n",
       "      <td>0</td>\n",
       "      <td>7306.0</td>\n",
       "      <td>{'status': '200', 'available': True, 'url': 'h...</td>\n",
       "      <td>...</td>\n",
       "      <td>False</td>\n",
       "      <td>False</td>\n",
       "      <td>False</td>\n",
       "      <td>True</td>\n",
       "      <td>False</td>\n",
       "      <td>False</td>\n",
       "      <td>False</td>\n",
       "      <td>0.0</td>\n",
       "      <td>False</td>\n",
       "      <td>3.0</td>\n",
       "    </tr>\n",
       "    <tr>\n",
       "      <th>4</th>\n",
       "      <td>2020-01-01</td>\n",
       "      <td>Clothing and Apparel, Commerce and Shopping, C...</td>\n",
       "      <td>0.0</td>\n",
       "      <td>0.0</td>\n",
       "      <td>0.0</td>\n",
       "      <td>4</td>\n",
       "      <td>2020</td>\n",
       "      <td>0</td>\n",
       "      <td>195537.0</td>\n",
       "      <td>{'status': '200', 'available': True, 'url': 'h...</td>\n",
       "      <td>...</td>\n",
       "      <td>False</td>\n",
       "      <td>False</td>\n",
       "      <td>False</td>\n",
       "      <td>False</td>\n",
       "      <td>True</td>\n",
       "      <td>False</td>\n",
       "      <td>False</td>\n",
       "      <td>0.0</td>\n",
       "      <td>False</td>\n",
       "      <td>2.0</td>\n",
       "    </tr>\n",
       "    <tr>\n",
       "      <th>6</th>\n",
       "      <td>2018-07-06</td>\n",
       "      <td>Real Estate</td>\n",
       "      <td>0.0</td>\n",
       "      <td>0.0</td>\n",
       "      <td>0.0</td>\n",
       "      <td>5</td>\n",
       "      <td>2018</td>\n",
       "      <td>0</td>\n",
       "      <td>1684.0</td>\n",
       "      <td>{'status': '200', 'available': True, 'url': 'h...</td>\n",
       "      <td>...</td>\n",
       "      <td>False</td>\n",
       "      <td>False</td>\n",
       "      <td>True</td>\n",
       "      <td>False</td>\n",
       "      <td>False</td>\n",
       "      <td>False</td>\n",
       "      <td>False</td>\n",
       "      <td>0.0</td>\n",
       "      <td>False</td>\n",
       "      <td>3.0</td>\n",
       "    </tr>\n",
       "    <tr>\n",
       "      <th>10</th>\n",
       "      <td>2019-08-01</td>\n",
       "      <td>Artificial Intelligence (AI), Data and Analyti...</td>\n",
       "      <td>0.0</td>\n",
       "      <td>0.0</td>\n",
       "      <td>0.0</td>\n",
       "      <td>4</td>\n",
       "      <td>2019</td>\n",
       "      <td>0</td>\n",
       "      <td>207.0</td>\n",
       "      <td>NaN</td>\n",
       "      <td>...</td>\n",
       "      <td>False</td>\n",
       "      <td>True</td>\n",
       "      <td>False</td>\n",
       "      <td>True</td>\n",
       "      <td>False</td>\n",
       "      <td>False</td>\n",
       "      <td>False</td>\n",
       "      <td>0.0</td>\n",
       "      <td>False</td>\n",
       "      <td>2.0</td>\n",
       "    </tr>\n",
       "  </tbody>\n",
       "</table>\n",
       "<p>5 rows × 25 columns</p>\n",
       "</div>"
      ],
      "text/plain": [
       "   Founded Date                                    Industry Groups  \\\n",
       "2    2021-08-01                                           Software   \n",
       "3    2019-01-01    Commerce and Shopping, Education, Manufacturing   \n",
       "4    2020-01-01  Clothing and Apparel, Commerce and Shopping, C...   \n",
       "6    2018-07-06                                        Real Estate   \n",
       "10   2019-08-01  Artificial Intelligence (AI), Data and Analyti...   \n",
       "\n",
       "    Number of Funding Rounds  Last Funding Amount Currency (in USD)  \\\n",
       "2                        1.0                                    0.0   \n",
       "3                        0.0                                    0.0   \n",
       "4                        0.0                                    0.0   \n",
       "6                        0.0                                    0.0   \n",
       "10                       0.0                                    0.0   \n",
       "\n",
       "    Total Funding Amount Currency (in USD)  age  founding_year  source_x  \\\n",
       "2                                      0.0    2           2021         0   \n",
       "3                                      0.0    5           2019         0   \n",
       "4                                      0.0    4           2020         0   \n",
       "6                                      0.0    5           2018         0   \n",
       "10                                     0.0    4           2019         0   \n",
       "\n",
       "    text_len                                   closest_snapshot  ...  \\\n",
       "2      103.0  {'status': '200', 'available': True, 'url': 'h...  ...   \n",
       "3     7306.0  {'status': '200', 'available': True, 'url': 'h...  ...   \n",
       "4   195537.0  {'status': '200', 'available': True, 'url': 'h...  ...   \n",
       "6     1684.0  {'status': '200', 'available': True, 'url': 'h...  ...   \n",
       "10     207.0                                                NaN  ...   \n",
       "\n",
       "    fund_success AI_bin Year_2018  Year_2019  Year_2020  Year_2021  Year_2022  \\\n",
       "2          False  False     False      False      False       True      False   \n",
       "3          False  False     False       True      False      False      False   \n",
       "4          False  False     False      False       True      False      False   \n",
       "6          False  False      True      False      False      False      False   \n",
       "10         False   True     False       True      False      False      False   \n",
       "\n",
       "    Last Funding Type ORD  Series_A_bin  Number of Employees ORD  \n",
       "2                     1.0         False                      1.0  \n",
       "3                     0.0         False                      3.0  \n",
       "4                     0.0         False                      2.0  \n",
       "6                     0.0         False                      3.0  \n",
       "10                    0.0         False                      2.0  \n",
       "\n",
       "[5 rows x 25 columns]"
      ]
     },
     "execution_count": 103,
     "metadata": {},
     "output_type": "execute_result"
    }
   ],
   "source": [
    "df.head()"
   ]
  },
  {
   "cell_type": "markdown",
   "metadata": {},
   "source": [
    "# Descriptive Statistics\n",
    "For the descriptive statistics I'm using a copy of the main dataframe 'df' that still contains all columns to be more versatile in my analyses."
   ]
  },
  {
   "cell_type": "code",
   "execution_count": 104,
   "metadata": {},
   "outputs": [
    {
     "name": "stdout",
     "output_type": "stream",
     "text": [
      "<class 'pandas.core.frame.DataFrame'>\n",
      "Index: 7964 entries, 2 to 17978\n",
      "Data columns (total 54 columns):\n",
      " #   Column                                  Non-Null Count  Dtype         \n",
      "---  ------                                  --------------  -----         \n",
      " 0   ID                                      7964 non-null   int64         \n",
      " 1   company                                 7964 non-null   object        \n",
      " 2   Founded Date                            7964 non-null   datetime64[ns]\n",
      " 3   website                                 7964 non-null   object        \n",
      " 4   Headquarters Location                   7964 non-null   object        \n",
      " 5   Industry Groups                         7964 non-null   object        \n",
      " 6   Industries                              7964 non-null   object        \n",
      " 7   CB Rank (Company)                       7964 non-null   float64       \n",
      " 8   Full Description                        4794 non-null   object        \n",
      " 9   Number of Employees                     7964 non-null   object        \n",
      " 10  Number of Funding Rounds                7964 non-null   float64       \n",
      " 11  Funding Status                          1170 non-null   object        \n",
      " 12  Last Funding Date                       1046 non-null   datetime64[ns]\n",
      " 13  Last Funding Amount Currency (in USD)   7964 non-null   float64       \n",
      " 14  Last Funding Type                       1046 non-null   object        \n",
      " 15  Total Funding Amount Currency (in USD)  7964 non-null   float64       \n",
      " 16  Number of Founders                      3559 non-null   float64       \n",
      " 17  Number of Employees.1                   7964 non-null   object        \n",
      " 18  IPO Status                              7964 non-null   object        \n",
      " 19  IPO Date                                7 non-null      object        \n",
      " 20  Valuation at IPO Currency (in USD)      1 non-null      float64       \n",
      " 21  IPqwery - Patents Granted               661 non-null    object        \n",
      " 22  IPqwery - Trademarks Registered         661 non-null    object        \n",
      " 23  IPqwery - Most Popular Patent Class     94 non-null     object        \n",
      " 24  NA Count                                7964 non-null   int64         \n",
      " 25  age                                     7964 non-null   int64         \n",
      " 26  founding_year                           7964 non-null   int64         \n",
      " 27  org_uuid                                7964 non-null   int64         \n",
      " 28  source_x                                7964 non-null   int64         \n",
      " 29  Unnamed: 0                              7964 non-null   float64       \n",
      " 30  text_len                                7964 non-null   float64       \n",
      " 31  source_y                                7964 non-null   object        \n",
      " 32  text                                    7964 non-null   object        \n",
      " 33  type                                    7964 non-null   object        \n",
      " 34  closest_snapshot                        6245 non-null   object        \n",
      " 35  closest_snapshot_time                   6245 non-null   datetime64[ns]\n",
      " 36  snapshot_in_window                      7964 non-null   bool          \n",
      " 37  text_preprocessed                       7956 non-null   object        \n",
      " 38  ai_keyword_count                        7964 non-null   float64       \n",
      " 39  matched_keywords                        7964 non-null   object        \n",
      " 40  Headquarters State                      7964 non-null   object        \n",
      " 41  funding_bin                             7964 non-null   bool          \n",
      " 42  keyword_bin                             7964 non-null   bool          \n",
      " 43  fund_success                            7964 non-null   bool          \n",
      " 44  AI_bin                                  7964 non-null   bool          \n",
      " 45  Founded Year                            7964 non-null   int32         \n",
      " 46  Year_2018                               7964 non-null   bool          \n",
      " 47  Year_2019                               7964 non-null   bool          \n",
      " 48  Year_2020                               7964 non-null   bool          \n",
      " 49  Year_2021                               7964 non-null   bool          \n",
      " 50  Year_2022                               7964 non-null   bool          \n",
      " 51  Last Funding Type ORD                   7964 non-null   float64       \n",
      " 52  Series_A_bin                            7964 non-null   bool          \n",
      " 53  Number of Employees ORD                 7960 non-null   float64       \n",
      "dtypes: bool(11), datetime64[ns](3), float64(11), int32(1), int64(6), object(22)\n",
      "memory usage: 2.7+ MB\n"
     ]
    }
   ],
   "source": [
    "descriptive_df.info()"
   ]
  },
  {
   "cell_type": "markdown",
   "metadata": {},
   "source": [
    "## General Stats"
   ]
  },
  {
   "cell_type": "code",
   "execution_count": 105,
   "metadata": {},
   "outputs": [
    {
     "data": {
      "text/html": [
       "<div>\n",
       "<style scoped>\n",
       "    .dataframe tbody tr th:only-of-type {\n",
       "        vertical-align: middle;\n",
       "    }\n",
       "\n",
       "    .dataframe tbody tr th {\n",
       "        vertical-align: top;\n",
       "    }\n",
       "\n",
       "    .dataframe thead th {\n",
       "        text-align: right;\n",
       "    }\n",
       "</style>\n",
       "<table border=\"1\" class=\"dataframe\">\n",
       "  <thead>\n",
       "    <tr style=\"text-align: right;\">\n",
       "      <th></th>\n",
       "      <th>Number of Funding Rounds</th>\n",
       "      <th>Last Funding Amount Currency (in USD)</th>\n",
       "      <th>Total Funding Amount Currency (in USD)</th>\n",
       "      <th>age</th>\n",
       "      <th>founding_year</th>\n",
       "      <th>source_x</th>\n",
       "      <th>text_len</th>\n",
       "      <th>ai_keyword_count</th>\n",
       "      <th>Last Funding Type ORD</th>\n",
       "      <th>Number of Employees ORD</th>\n",
       "    </tr>\n",
       "  </thead>\n",
       "  <tbody>\n",
       "    <tr>\n",
       "      <th>count</th>\n",
       "      <td>7964.000000</td>\n",
       "      <td>7.964000e+03</td>\n",
       "      <td>7.964000e+03</td>\n",
       "      <td>7964.000000</td>\n",
       "      <td>7964.000000</td>\n",
       "      <td>7964.000000</td>\n",
       "      <td>7964.000000</td>\n",
       "      <td>7964.000000</td>\n",
       "      <td>7964.000000</td>\n",
       "      <td>7960.000000</td>\n",
       "    </tr>\n",
       "    <tr>\n",
       "      <th>mean</th>\n",
       "      <td>0.131341</td>\n",
       "      <td>1.518185e+05</td>\n",
       "      <td>1.518185e+05</td>\n",
       "      <td>3.746861</td>\n",
       "      <td>2020.035158</td>\n",
       "      <td>0.105098</td>\n",
       "      <td>14604.133601</td>\n",
       "      <td>0.770593</td>\n",
       "      <td>0.205550</td>\n",
       "      <td>1.626508</td>\n",
       "    </tr>\n",
       "    <tr>\n",
       "      <th>std</th>\n",
       "      <td>0.337794</td>\n",
       "      <td>2.041098e+06</td>\n",
       "      <td>2.041098e+06</td>\n",
       "      <td>1.108328</td>\n",
       "      <td>1.070077</td>\n",
       "      <td>0.306699</td>\n",
       "      <td>20429.384281</td>\n",
       "      <td>3.512127</td>\n",
       "      <td>0.571028</td>\n",
       "      <td>0.951164</td>\n",
       "    </tr>\n",
       "    <tr>\n",
       "      <th>min</th>\n",
       "      <td>0.000000</td>\n",
       "      <td>0.000000e+00</td>\n",
       "      <td>0.000000e+00</td>\n",
       "      <td>1.000000</td>\n",
       "      <td>2018.000000</td>\n",
       "      <td>0.000000</td>\n",
       "      <td>50.000000</td>\n",
       "      <td>0.000000</td>\n",
       "      <td>0.000000</td>\n",
       "      <td>1.000000</td>\n",
       "    </tr>\n",
       "    <tr>\n",
       "      <th>25%</th>\n",
       "      <td>0.000000</td>\n",
       "      <td>0.000000e+00</td>\n",
       "      <td>0.000000e+00</td>\n",
       "      <td>3.000000</td>\n",
       "      <td>2019.000000</td>\n",
       "      <td>0.000000</td>\n",
       "      <td>2972.750000</td>\n",
       "      <td>0.000000</td>\n",
       "      <td>0.000000</td>\n",
       "      <td>1.000000</td>\n",
       "    </tr>\n",
       "    <tr>\n",
       "      <th>50%</th>\n",
       "      <td>0.000000</td>\n",
       "      <td>0.000000e+00</td>\n",
       "      <td>0.000000e+00</td>\n",
       "      <td>4.000000</td>\n",
       "      <td>2020.000000</td>\n",
       "      <td>0.000000</td>\n",
       "      <td>8942.000000</td>\n",
       "      <td>0.000000</td>\n",
       "      <td>0.000000</td>\n",
       "      <td>1.000000</td>\n",
       "    </tr>\n",
       "    <tr>\n",
       "      <th>75%</th>\n",
       "      <td>0.000000</td>\n",
       "      <td>0.000000e+00</td>\n",
       "      <td>0.000000e+00</td>\n",
       "      <td>5.000000</td>\n",
       "      <td>2021.000000</td>\n",
       "      <td>0.000000</td>\n",
       "      <td>19096.500000</td>\n",
       "      <td>0.000000</td>\n",
       "      <td>0.000000</td>\n",
       "      <td>2.000000</td>\n",
       "    </tr>\n",
       "    <tr>\n",
       "      <th>max</th>\n",
       "      <td>1.000000</td>\n",
       "      <td>9.500000e+07</td>\n",
       "      <td>9.500000e+07</td>\n",
       "      <td>5.000000</td>\n",
       "      <td>2022.000000</td>\n",
       "      <td>1.000000</td>\n",
       "      <td>493990.000000</td>\n",
       "      <td>71.000000</td>\n",
       "      <td>6.000000</td>\n",
       "      <td>8.000000</td>\n",
       "    </tr>\n",
       "  </tbody>\n",
       "</table>\n",
       "</div>"
      ],
      "text/plain": [
       "       Number of Funding Rounds  Last Funding Amount Currency (in USD)  \\\n",
       "count               7964.000000                           7.964000e+03   \n",
       "mean                   0.131341                           1.518185e+05   \n",
       "std                    0.337794                           2.041098e+06   \n",
       "min                    0.000000                           0.000000e+00   \n",
       "25%                    0.000000                           0.000000e+00   \n",
       "50%                    0.000000                           0.000000e+00   \n",
       "75%                    0.000000                           0.000000e+00   \n",
       "max                    1.000000                           9.500000e+07   \n",
       "\n",
       "       Total Funding Amount Currency (in USD)          age  founding_year  \\\n",
       "count                            7.964000e+03  7964.000000    7964.000000   \n",
       "mean                             1.518185e+05     3.746861    2020.035158   \n",
       "std                              2.041098e+06     1.108328       1.070077   \n",
       "min                              0.000000e+00     1.000000    2018.000000   \n",
       "25%                              0.000000e+00     3.000000    2019.000000   \n",
       "50%                              0.000000e+00     4.000000    2020.000000   \n",
       "75%                              0.000000e+00     5.000000    2021.000000   \n",
       "max                              9.500000e+07     5.000000    2022.000000   \n",
       "\n",
       "          source_x       text_len  ai_keyword_count  Last Funding Type ORD  \\\n",
       "count  7964.000000    7964.000000       7964.000000            7964.000000   \n",
       "mean      0.105098   14604.133601          0.770593               0.205550   \n",
       "std       0.306699   20429.384281          3.512127               0.571028   \n",
       "min       0.000000      50.000000          0.000000               0.000000   \n",
       "25%       0.000000    2972.750000          0.000000               0.000000   \n",
       "50%       0.000000    8942.000000          0.000000               0.000000   \n",
       "75%       0.000000   19096.500000          0.000000               0.000000   \n",
       "max       1.000000  493990.000000         71.000000               6.000000   \n",
       "\n",
       "       Number of Employees ORD  \n",
       "count              7960.000000  \n",
       "mean                  1.626508  \n",
       "std                   0.951164  \n",
       "min                   1.000000  \n",
       "25%                   1.000000  \n",
       "50%                   1.000000  \n",
       "75%                   2.000000  \n",
       "max                   8.000000  "
      ]
     },
     "metadata": {},
     "output_type": "display_data"
    }
   ],
   "source": [
    "# Creating first summaries of the numerical features\n",
    "descriptive_stats = df.describe(include=[np.number]) # Only numerical columns\n",
    "display(descriptive_stats)"
   ]
  },
  {
   "cell_type": "code",
   "execution_count": 106,
   "metadata": {},
   "outputs": [
    {
     "data": {
      "text/html": [
       "<div>\n",
       "<style scoped>\n",
       "    .dataframe tbody tr th:only-of-type {\n",
       "        vertical-align: middle;\n",
       "    }\n",
       "\n",
       "    .dataframe tbody tr th {\n",
       "        vertical-align: top;\n",
       "    }\n",
       "\n",
       "    .dataframe thead th {\n",
       "        text-align: right;\n",
       "    }\n",
       "</style>\n",
       "<table border=\"1\" class=\"dataframe\">\n",
       "  <thead>\n",
       "    <tr style=\"text-align: right;\">\n",
       "      <th></th>\n",
       "      <th>company</th>\n",
       "      <th>website</th>\n",
       "      <th>Headquarters Location</th>\n",
       "      <th>Industry Groups</th>\n",
       "      <th>Industries</th>\n",
       "      <th>Full Description</th>\n",
       "      <th>Number of Employees</th>\n",
       "      <th>Funding Status</th>\n",
       "      <th>Last Funding Type</th>\n",
       "      <th>Number of Employees.1</th>\n",
       "      <th>...</th>\n",
       "      <th>IPqwery - Patents Granted</th>\n",
       "      <th>IPqwery - Trademarks Registered</th>\n",
       "      <th>IPqwery - Most Popular Patent Class</th>\n",
       "      <th>source_y</th>\n",
       "      <th>text</th>\n",
       "      <th>type</th>\n",
       "      <th>closest_snapshot</th>\n",
       "      <th>text_preprocessed</th>\n",
       "      <th>matched_keywords</th>\n",
       "      <th>Headquarters State</th>\n",
       "    </tr>\n",
       "  </thead>\n",
       "  <tbody>\n",
       "    <tr>\n",
       "      <th>count</th>\n",
       "      <td>7964</td>\n",
       "      <td>7964</td>\n",
       "      <td>7964</td>\n",
       "      <td>7964</td>\n",
       "      <td>7964</td>\n",
       "      <td>4794</td>\n",
       "      <td>7964</td>\n",
       "      <td>1170</td>\n",
       "      <td>1046</td>\n",
       "      <td>7964</td>\n",
       "      <td>...</td>\n",
       "      <td>661</td>\n",
       "      <td>661</td>\n",
       "      <td>94</td>\n",
       "      <td>7964</td>\n",
       "      <td>7964</td>\n",
       "      <td>7964</td>\n",
       "      <td>6245</td>\n",
       "      <td>7956</td>\n",
       "      <td>7964</td>\n",
       "      <td>7964</td>\n",
       "    </tr>\n",
       "    <tr>\n",
       "      <th>unique</th>\n",
       "      <td>7948</td>\n",
       "      <td>7964</td>\n",
       "      <td>1699</td>\n",
       "      <td>2951</td>\n",
       "      <td>6314</td>\n",
       "      <td>4794</td>\n",
       "      <td>9</td>\n",
       "      <td>5</td>\n",
       "      <td>5</td>\n",
       "      <td>9</td>\n",
       "      <td>...</td>\n",
       "      <td>28</td>\n",
       "      <td>29</td>\n",
       "      <td>26</td>\n",
       "      <td>1</td>\n",
       "      <td>7877</td>\n",
       "      <td>1</td>\n",
       "      <td>6244</td>\n",
       "      <td>7876</td>\n",
       "      <td>142</td>\n",
       "      <td>51</td>\n",
       "    </tr>\n",
       "    <tr>\n",
       "      <th>top</th>\n",
       "      <td>Croft</td>\n",
       "      <td>https://www.promptlayer.com</td>\n",
       "      <td>New York, New York, United States</td>\n",
       "      <td>Health Care</td>\n",
       "      <td>Software</td>\n",
       "      <td>Nerdee's a seller of clothing, accessories, ga...</td>\n",
       "      <td>1-10</td>\n",
       "      <td>Seed</td>\n",
       "      <td>Pre-Seed</td>\n",
       "      <td>1-10</td>\n",
       "      <td>...</td>\n",
       "      <td>0.0</td>\n",
       "      <td>1.0</td>\n",
       "      <td>Computing; Calculating</td>\n",
       "      <td>crunchbase</td>\n",
       "      <td>One moment, Please wait while your request is...</td>\n",
       "      <td>startup</td>\n",
       "      <td>{'status': '200', 'available': True, 'url': 'h...</td>\n",
       "      <td>one moment please wait request</td>\n",
       "      <td>0</td>\n",
       "      <td>California</td>\n",
       "    </tr>\n",
       "    <tr>\n",
       "      <th>freq</th>\n",
       "      <td>2</td>\n",
       "      <td>1</td>\n",
       "      <td>706</td>\n",
       "      <td>353</td>\n",
       "      <td>86</td>\n",
       "      <td>1</td>\n",
       "      <td>4410</td>\n",
       "      <td>974</td>\n",
       "      <td>503</td>\n",
       "      <td>4410</td>\n",
       "      <td>...</td>\n",
       "      <td>501</td>\n",
       "      <td>236</td>\n",
       "      <td>23</td>\n",
       "      <td>7964</td>\n",
       "      <td>24</td>\n",
       "      <td>7964</td>\n",
       "      <td>2</td>\n",
       "      <td>24</td>\n",
       "      <td>6876</td>\n",
       "      <td>1815</td>\n",
       "    </tr>\n",
       "  </tbody>\n",
       "</table>\n",
       "<p>4 rows × 22 columns</p>\n",
       "</div>"
      ],
      "text/plain": [
       "       company                      website  \\\n",
       "count     7964                         7964   \n",
       "unique    7948                         7964   \n",
       "top      Croft  https://www.promptlayer.com   \n",
       "freq         2                            1   \n",
       "\n",
       "                    Headquarters Location Industry Groups Industries  \\\n",
       "count                                7964            7964       7964   \n",
       "unique                               1699            2951       6314   \n",
       "top     New York, New York, United States     Health Care   Software   \n",
       "freq                                  706             353         86   \n",
       "\n",
       "                                         Full Description Number of Employees  \\\n",
       "count                                                4794                7964   \n",
       "unique                                               4794                   9   \n",
       "top     Nerdee's a seller of clothing, accessories, ga...                1-10   \n",
       "freq                                                    1                4410   \n",
       "\n",
       "       Funding Status Last Funding Type Number of Employees.1  ...  \\\n",
       "count            1170              1046                  7964  ...   \n",
       "unique              5                 5                     9  ...   \n",
       "top              Seed          Pre-Seed                  1-10  ...   \n",
       "freq              974               503                  4410  ...   \n",
       "\n",
       "       IPqwery - Patents Granted IPqwery - Trademarks Registered  \\\n",
       "count                        661                             661   \n",
       "unique                        28                              29   \n",
       "top                          0.0                             1.0   \n",
       "freq                         501                             236   \n",
       "\n",
       "       IPqwery - Most Popular Patent Class    source_y  \\\n",
       "count                                   94        7964   \n",
       "unique                                  26           1   \n",
       "top                 Computing; Calculating  crunchbase   \n",
       "freq                                    23        7964   \n",
       "\n",
       "                                                     text     type  \\\n",
       "count                                                7964     7964   \n",
       "unique                                               7877        1   \n",
       "top      One moment, Please wait while your request is...  startup   \n",
       "freq                                                   24     7964   \n",
       "\n",
       "                                         closest_snapshot  \\\n",
       "count                                                6245   \n",
       "unique                                               6244   \n",
       "top     {'status': '200', 'available': True, 'url': 'h...   \n",
       "freq                                                    2   \n",
       "\n",
       "                     text_preprocessed matched_keywords Headquarters State  \n",
       "count                             7956             7964               7964  \n",
       "unique                            7876              142                 51  \n",
       "top     one moment please wait request                0         California  \n",
       "freq                                24             6876               1815  \n",
       "\n",
       "[4 rows x 22 columns]"
      ]
     },
     "metadata": {},
     "output_type": "display_data"
    }
   ],
   "source": [
    "# Creating first summaries of non-numerical features\n",
    "descriptive_stats_categorical = descriptive_df.describe(include=[object])  # Only object columns\n",
    "display(descriptive_stats_categorical)"
   ]
  },
  {
   "cell_type": "code",
   "execution_count": 107,
   "metadata": {},
   "outputs": [
    {
     "name": "stdout",
     "output_type": "stream",
     "text": [
      "Number of all Startups with funding: 546\n"
     ]
    }
   ],
   "source": [
    "# Calculating the number of startups that received funding\n",
    "print(f\"Number of all Startups with funding: {len(descriptive_df[descriptive_df['funding_bin']== 1])}\")"
   ]
  },
  {
   "cell_type": "markdown",
   "metadata": {},
   "source": [
    "## Funding Distribution - pre-clean"
   ]
  },
  {
   "cell_type": "markdown",
   "metadata": {},
   "source": [
    "## Age Distribution"
   ]
  },
  {
   "cell_type": "code",
   "execution_count": 108,
   "metadata": {},
   "outputs": [
    {
     "data": {
      "image/png": "[encoded data removed]",
      "text/plain": [
       "<Figure size 800x600 with 1 Axes>"
      ]
     },
     "metadata": {},
     "output_type": "display_data"
    }
   ],
   "source": [
    "# Filtering non-null 'text_preprocessed' values\n",
    "df_Figure = descriptive_df[descriptive_df['text_preprocessed'].notna()]\n",
    "\n",
    "# Setting Seaborn style\n",
    "sns.set(style=\"whitegrid\")\n",
    "\n",
    "# Creating the histogram for Company Ages\n",
    "plt.figure(figsize=(8, 6))\n",
    "\n",
    "# Setting the bins to align with integer ages\n",
    "bins = [1, 2, 3, 4, 5, 6]\n",
    "\n",
    "sns.histplot(df_Figure['age'], bins=bins, kde=False, color='darkgreen', edgecolor='black', alpha=1)\n",
    "plt.xticks(bins[:-1])  # Adjust x-ticks to match the integer bins\n",
    "plt.title('Distribution of Startup Age (Years)')\n",
    "plt.xlabel('Age (Years)')\n",
    "plt.ylabel('Frequency')\n",
    "\n",
    "# Displaying and saving the plot\n",
    "plt.savefig('Plots/Descriptive Statistics/Age Distribution', dpi = 300, bbox_inches = 'tight')\n",
    "plt.show()"
   ]
  },
  {
   "cell_type": "code",
   "execution_count": 109,
   "metadata": {},
   "outputs": [
    {
     "name": "stdout",
     "output_type": "stream",
     "text": [
      "Age Distribution:\n",
      " count    7964.000000\n",
      "mean        3.746861\n",
      "std         1.108328\n",
      "min         1.000000\n",
      "25%         3.000000\n",
      "50%         4.000000\n",
      "75%         5.000000\n",
      "max         5.000000\n",
      "Name: age, dtype: float64\n",
      "Median Age: 4.0\n"
     ]
    }
   ],
   "source": [
    "# Printing Distribution Statistics for age\n",
    "age_distribution = descriptive_df['age'].describe()\n",
    "print(\"Age Distribution:\\n\", age_distribution)\n",
    "print(f\"Median Age: {descriptive_df['age'].median()}\")"
   ]
  },
  {
   "cell_type": "markdown",
   "metadata": {},
   "source": [
    "## Geographic Distribution"
   ]
  },
  {
   "cell_type": "code",
   "execution_count": 110,
   "metadata": {},
   "outputs": [
    {
     "data": {
      "application/vnd.plotly.v1+json": {
       "config": {
        "plotlyServerURL": "https://plot.ly"
       },
       "data": [
        {
         "coloraxis": "coloraxis",
         "geo": "geo",
         "hovertemplate": "State_short=%{location}<br>Count=%{z}<extra></extra>",
         "locationmode": "USA-states",
         "locations": [
          "CA",
          "NY",
          "TX",
          "FL",
          "IL",
          "DE",
          "MA",
          "CO",
          "GA",
          "WA",
          "PA",
          "NJ",
          "AZ",
          "OH",
          "VA",
          "NC",
          "MI",
          "MD",
          "DC",
          "UT",
          "TN",
          "OR",
          "MN",
          "CT",
          "MO",
          "NV",
          "IN",
          "SC",
          "WY",
          "KY",
          "WI",
          "OK",
          "ID",
          "AL",
          "LA",
          "KS",
          "ME",
          "IA",
          "NH",
          "AR",
          "NM",
          "VT",
          "NE",
          "RI",
          "MT",
          "HI",
          "MS",
          "ND",
          "AK",
          "WV",
          "SD"
         ],
         "name": "",
         "type": "choropleth",
         "z": [
          1815,
          980,
          722,
          613,
          270,
          252,
          243,
          206,
          202,
          185,
          184,
          182,
          150,
          145,
          140,
          138,
          116,
          101,
          95,
          87,
          86,
          80,
          80,
          75,
          75,
          71,
          69,
          66,
          59,
          56,
          52,
          43,
          41,
          36,
          36,
          33,
          20,
          19,
          19,
          16,
          14,
          14,
          14,
          12,
          12,
          11,
          9,
          8,
          5,
          4,
          3
         ]
        }
       ],
       "layout": {
        "coloraxis": {
         "colorbar": {
          "ticktext": [
           "Low",
           "High"
          ],
          "tickvals": [
           3,
           1815
          ],
          "title": {
           "font": {
            "family": "Times New Roman"
           },
           "text": "Company Count"
          }
         },
         "colorscale": [
          [
           0,
           "gainsboro"
          ],
          [
           1,
           "darkgreen"
          ]
         ]
        },
        "font": {
         "family": "Times New Roman"
        },
        "geo": {
         "center": {},
         "domain": {
          "x": [
           0,
           1
          ],
          "y": [
           0,
           1
          ]
         },
         "scope": "usa"
        },
        "height": 600,
        "legend": {
         "tracegroupgap": 0
        },
        "template": {
         "data": {
          "bar": [
           {
            "error_x": {
             "color": "#2a3f5f"
            },
            "error_y": {
             "color": "#2a3f5f"
            },
            "marker": {
             "line": {
              "color": "#E5ECF6",
              "width": 0.5
             },
             "pattern": {
              "fillmode": "overlay",
              "size": 10,
              "solidity": 0.2
             }
            },
            "type": "bar"
           }
          ],
          "barpolar": [
           {
            "marker": {
             "line": {
              "color": "#E5ECF6",
              "width": 0.5
             },
             "pattern": {
              "fillmode": "overlay",
              "size": 10,
              "solidity": 0.2
             }
            },
            "type": "barpolar"
           }
          ],
          "carpet": [
           {
            "aaxis": {
             "endlinecolor": "#2a3f5f",
             "gridcolor": "white",
             "linecolor": "white",
             "minorgridcolor": "white",
             "startlinecolor": "#2a3f5f"
            },
            "baxis": {
             "endlinecolor": "#2a3f5f",
             "gridcolor": "white",
             "linecolor": "white",
             "minorgridcolor": "white",
             "startlinecolor": "#2a3f5f"
            },
            "type": "carpet"
           }
          ],
          "choropleth": [
           {
            "colorbar": {
             "outlinewidth": 0,
             "ticks": ""
            },
            "type": "choropleth"
           }
          ],
          "contour": [
           {
            "colorbar": {
             "outlinewidth": 0,
             "ticks": ""
            },
            "colorscale": [
             [
              0,
              "#0d0887"
             ],
             [
              0.1111111111111111,
              "#46039f"
             ],
             [
              0.2222222222222222,
              "#7201a8"
             ],
             [
              0.3333333333333333,
              "#9c179e"
             ],
             [
              0.4444444444444444,
              "#bd3786"
             ],
             [
              0.5555555555555556,
              "#d8576b"
             ],
             [
              0.6666666666666666,
              "#ed7953"
             ],
             [
              0.7777777777777778,
              "#fb9f3a"
             ],
             [
              0.8888888888888888,
              "#fdca26"
             ],
             [
              1,
              "#f0f921"
             ]
            ],
            "type": "contour"
           }
          ],
          "contourcarpet": [
           {
            "colorbar": {
             "outlinewidth": 0,
             "ticks": ""
            },
            "type": "contourcarpet"
           }
          ],
          "heatmap": [
           {
            "colorbar": {
             "outlinewidth": 0,
             "ticks": ""
            },
            "colorscale": [
             [
              0,
              "#0d0887"
             ],
             [
              0.1111111111111111,
              "#46039f"
             ],
             [
              0.2222222222222222,
              "#7201a8"
             ],
             [
              0.3333333333333333,
              "#9c179e"
             ],
             [
              0.4444444444444444,
              "#bd3786"
             ],
             [
              0.5555555555555556,
              "#d8576b"
             ],
             [
              0.6666666666666666,
              "#ed7953"
             ],
             [
              0.7777777777777778,
              "#fb9f3a"
             ],
             [
              0.8888888888888888,
              "#fdca26"
             ],
             [
              1,
              "#f0f921"
             ]
            ],
            "type": "heatmap"
           }
          ],
          "heatmapgl": [
           {
            "colorbar": {
             "outlinewidth": 0,
             "ticks": ""
            },
            "colorscale": [
             [
              0,
              "#0d0887"
             ],
             [
              0.1111111111111111,
              "#46039f"
             ],
             [
              0.2222222222222222,
              "#7201a8"
             ],
             [
              0.3333333333333333,
              "#9c179e"
             ],
             [
              0.4444444444444444,
              "#bd3786"
             ],
             [
              0.5555555555555556,
              "#d8576b"
             ],
             [
              0.6666666666666666,
              "#ed7953"
             ],
             [
              0.7777777777777778,
              "#fb9f3a"
             ],
             [
              0.8888888888888888,
              "#fdca26"
             ],
             [
              1,
              "#f0f921"
             ]
            ],
            "type": "heatmapgl"
           }
          ],
          "histogram": [
           {
            "marker": {
             "pattern": {
              "fillmode": "overlay",
              "size": 10,
              "solidity": 0.2
             }
            },
            "type": "histogram"
           }
          ],
          "histogram2d": [
           {
            "colorbar": {
             "outlinewidth": 0,
             "ticks": ""
            },
            "colorscale": [
             [
              0,
              "#0d0887"
             ],
             [
              0.1111111111111111,
              "#46039f"
             ],
             [
              0.2222222222222222,
              "#7201a8"
             ],
             [
              0.3333333333333333,
              "#9c179e"
             ],
             [
              0.4444444444444444,
              "#bd3786"
             ],
             [
              0.5555555555555556,
              "#d8576b"
             ],
             [
              0.6666666666666666,
              "#ed7953"
             ],
             [
              0.7777777777777778,
              "#fb9f3a"
             ],
             [
              0.8888888888888888,
              "#fdca26"
             ],
             [
              1,
              "#f0f921"
             ]
            ],
            "type": "histogram2d"
           }
          ],
          "histogram2dcontour": [
           {
            "colorbar": {
             "outlinewidth": 0,
             "ticks": ""
            },
            "colorscale": [
             [
              0,
              "#0d0887"
             ],
             [
              0.1111111111111111,
              "#46039f"
             ],
             [
              0.2222222222222222,
              "#7201a8"
             ],
             [
              0.3333333333333333,
              "#9c179e"
             ],
             [
              0.4444444444444444,
              "#bd3786"
             ],
             [
              0.5555555555555556,
              "#d8576b"
             ],
             [
              0.6666666666666666,
              "#ed7953"
             ],
             [
              0.7777777777777778,
              "#fb9f3a"
             ],
             [
              0.8888888888888888,
              "#fdca26"
             ],
             [
              1,
              "#f0f921"
             ]
            ],
            "type": "histogram2dcontour"
           }
          ],
          "mesh3d": [
           {
            "colorbar": {
             "outlinewidth": 0,
             "ticks": ""
            },
            "type": "mesh3d"
           }
          ],
          "parcoords": [
           {
            "line": {
             "colorbar": {
              "outlinewidth": 0,
              "ticks": ""
             }
            },
            "type": "parcoords"
           }
          ],
          "pie": [
           {
            "automargin": true,
            "type": "pie"
           }
          ],
          "scatter": [
           {
            "fillpattern": {
             "fillmode": "overlay",
             "size": 10,
             "solidity": 0.2
            },
            "type": "scatter"
           }
          ],
          "scatter3d": [
           {
            "line": {
             "colorbar": {
              "outlinewidth": 0,
              "ticks": ""
             }
            },
            "marker": {
             "colorbar": {
              "outlinewidth": 0,
              "ticks": ""
             }
            },
            "type": "scatter3d"
           }
          ],
          "scattercarpet": [
           {
            "marker": {
             "colorbar": {
              "outlinewidth": 0,
              "ticks": ""
             }
            },
            "type": "scattercarpet"
           }
          ],
          "scattergeo": [
           {
            "marker": {
             "colorbar": {
              "outlinewidth": 0,
              "ticks": ""
             }
            },
            "type": "scattergeo"
           }
          ],
          "scattergl": [
           {
            "marker": {
             "colorbar": {
              "outlinewidth": 0,
              "ticks": ""
             }
            },
            "type": "scattergl"
           }
          ],
          "scattermapbox": [
           {
            "marker": {
             "colorbar": {
              "outlinewidth": 0,
              "ticks": ""
             }
            },
            "type": "scattermapbox"
           }
          ],
          "scatterpolar": [
           {
            "marker": {
             "colorbar": {
              "outlinewidth": 0,
              "ticks": ""
             }
            },
            "type": "scatterpolar"
           }
          ],
          "scatterpolargl": [
           {
            "marker": {
             "colorbar": {
              "outlinewidth": 0,
              "ticks": ""
             }
            },
            "type": "scatterpolargl"
           }
          ],
          "scatterternary": [
           {
            "marker": {
             "colorbar": {
              "outlinewidth": 0,
              "ticks": ""
             }
            },
            "type": "scatterternary"
           }
          ],
          "surface": [
           {
            "colorbar": {
             "outlinewidth": 0,
             "ticks": ""
            },
            "colorscale": [
             [
              0,
              "#0d0887"
             ],
             [
              0.1111111111111111,
              "#46039f"
             ],
             [
              0.2222222222222222,
              "#7201a8"
             ],
             [
              0.3333333333333333,
              "#9c179e"
             ],
             [
              0.4444444444444444,
              "#bd3786"
             ],
             [
              0.5555555555555556,
              "#d8576b"
             ],
             [
              0.6666666666666666,
              "#ed7953"
             ],
             [
              0.7777777777777778,
              "#fb9f3a"
             ],
             [
              0.8888888888888888,
              "#fdca26"
             ],
             [
              1,
              "#f0f921"
             ]
            ],
            "type": "surface"
           }
          ],
          "table": [
           {
            "cells": {
             "fill": {
              "color": "#EBF0F8"
             },
             "line": {
              "color": "white"
             }
            },
            "header": {
             "fill": {
              "color": "#C8D4E3"
             },
             "line": {
              "color": "white"
             }
            },
            "type": "table"
           }
          ]
         },
         "layout": {
          "annotationdefaults": {
           "arrowcolor": "#2a3f5f",
           "arrowhead": 0,
           "arrowwidth": 1
          },
          "autotypenumbers": "strict",
          "coloraxis": {
           "colorbar": {
            "outlinewidth": 0,
            "ticks": ""
           }
          },
          "colorscale": {
           "diverging": [
            [
             0,
             "#8e0152"
            ],
            [
             0.1,
             "#c51b7d"
            ],
            [
             0.2,
             "#de77ae"
            ],
            [
             0.3,
             "#f1b6da"
            ],
            [
             0.4,
             "#fde0ef"
            ],
            [
             0.5,
             "#f7f7f7"
            ],
            [
             0.6,
             "#e6f5d0"
            ],
            [
             0.7,
             "#b8e186"
            ],
            [
             0.8,
             "#7fbc41"
            ],
            [
             0.9,
             "#4d9221"
            ],
            [
             1,
             "#276419"
            ]
           ],
           "sequential": [
            [
             0,
             "#0d0887"
            ],
            [
             0.1111111111111111,
             "#46039f"
            ],
            [
             0.2222222222222222,
             "#7201a8"
            ],
            [
             0.3333333333333333,
             "#9c179e"
            ],
            [
             0.4444444444444444,
             "#bd3786"
            ],
            [
             0.5555555555555556,
             "#d8576b"
            ],
            [
             0.6666666666666666,
             "#ed7953"
            ],
            [
             0.7777777777777778,
             "#fb9f3a"
            ],
            [
             0.8888888888888888,
             "#fdca26"
            ],
            [
             1,
             "#f0f921"
            ]
           ],
           "sequentialminus": [
            [
             0,
             "#0d0887"
            ],
            [
             0.1111111111111111,
             "#46039f"
            ],
            [
             0.2222222222222222,
             "#7201a8"
            ],
            [
             0.3333333333333333,
             "#9c179e"
            ],
            [
             0.4444444444444444,
             "#bd3786"
            ],
            [
             0.5555555555555556,
             "#d8576b"
            ],
            [
             0.6666666666666666,
             "#ed7953"
            ],
            [
             0.7777777777777778,
             "#fb9f3a"
            ],
            [
             0.8888888888888888,
             "#fdca26"
            ],
            [
             1,
             "#f0f921"
            ]
           ]
          },
          "colorway": [
           "#636efa",
           "#EF553B",
           "#00cc96",
           "#ab63fa",
           "#FFA15A",
           "#19d3f3",
           "#FF6692",
           "#B6E880",
           "#FF97FF",
           "#FECB52"
          ],
          "font": {
           "color": "#2a3f5f"
          },
          "geo": {
           "bgcolor": "white",
           "lakecolor": "white",
           "landcolor": "#E5ECF6",
           "showlakes": true,
           "showland": true,
           "subunitcolor": "white"
          },
          "hoverlabel": {
           "align": "left"
          },
          "hovermode": "closest",
          "mapbox": {
           "style": "light"
          },
          "paper_bgcolor": "white",
          "plot_bgcolor": "#E5ECF6",
          "polar": {
           "angularaxis": {
            "gridcolor": "white",
            "linecolor": "white",
            "ticks": ""
           },
           "bgcolor": "#E5ECF6",
           "radialaxis": {
            "gridcolor": "white",
            "linecolor": "white",
            "ticks": ""
           }
          },
          "scene": {
           "xaxis": {
            "backgroundcolor": "#E5ECF6",
            "gridcolor": "white",
            "gridwidth": 2,
            "linecolor": "white",
            "showbackground": true,
            "ticks": "",
            "zerolinecolor": "white"
           },
           "yaxis": {
            "backgroundcolor": "#E5ECF6",
            "gridcolor": "white",
            "gridwidth": 2,
            "linecolor": "white",
            "showbackground": true,
            "ticks": "",
            "zerolinecolor": "white"
           },
           "zaxis": {
            "backgroundcolor": "#E5ECF6",
            "gridcolor": "white",
            "gridwidth": 2,
            "linecolor": "white",
            "showbackground": true,
            "ticks": "",
            "zerolinecolor": "white"
           }
          },
          "shapedefaults": {
           "line": {
            "color": "#2a3f5f"
           }
          },
          "ternary": {
           "aaxis": {
            "gridcolor": "white",
            "linecolor": "white",
            "ticks": ""
           },
           "baxis": {
            "gridcolor": "white",
            "linecolor": "white",
            "ticks": ""
           },
           "bgcolor": "#E5ECF6",
           "caxis": {
            "gridcolor": "white",
            "linecolor": "white",
            "ticks": ""
           }
          },
          "title": {
           "x": 0.05
          },
          "xaxis": {
           "automargin": true,
           "gridcolor": "white",
           "linecolor": "white",
           "ticks": "",
           "title": {
            "standoff": 15
           },
           "zerolinecolor": "white",
           "zerolinewidth": 2
          },
          "yaxis": {
           "automargin": true,
           "gridcolor": "white",
           "linecolor": "white",
           "ticks": "",
           "title": {
            "standoff": 15
           },
           "zerolinecolor": "white",
           "zerolinewidth": 2
          }
         }
        },
        "title": {
         "font": {
          "family": "Times New Roman"
         },
         "text": "Distribution of Companies Across the US States"
        },
        "width": 1000
       }
      }
     },
     "metadata": {},
     "output_type": "display_data"
    }
   ],
   "source": [
    "# Preparing the data\n",
    "state_counts = scraped_df['Headquarters State'].value_counts().reset_index()\n",
    "state_counts.columns = ['State', 'Count']\n",
    "\n",
    "# Mapping state names acronyms\n",
    "state_abbreviations = {\n",
    "    'Alabama': 'AL', 'Alaska': 'AK', 'Arizona': 'AZ', 'Arkansas': 'AR', 'California': 'CA',\n",
    "    'Colorado': 'CO', 'Connecticut': 'CT', 'Delaware': 'DE', 'District of Columbia': 'DC',\n",
    "    'Florida': 'FL', 'Georgia': 'GA', 'Hawaii': 'HI', 'Idaho': 'ID', 'Illinois': 'IL',\n",
    "    'Indiana': 'IN', 'Iowa': 'IA', 'Kansas': 'KS', 'Kentucky': 'KY', 'Louisiana': 'LA',\n",
    "    'Maine': 'ME', 'Maryland': 'MD', 'Massachusetts': 'MA', 'Michigan': 'MI', 'Minnesota': 'MN',\n",
    "    'Mississippi': 'MS', 'Missouri': 'MO', 'Montana': 'MT', 'Nebraska': 'NE', 'Nevada': 'NV',\n",
    "    'New Hampshire': 'NH', 'New Jersey': 'NJ', 'New Mexico': 'NM', 'New York': 'NY',\n",
    "    'North Carolina': 'NC', 'North Dakota': 'ND', 'Ohio': 'OH', 'Oklahoma': 'OK',\n",
    "    'Oregon': 'OR', 'Pennsylvania': 'PA', 'Rhode Island': 'RI', 'South Carolina': 'SC',\n",
    "    'South Dakota': 'SD', 'Tennessee': 'TN', 'Texas': 'TX', 'Utah': 'UT', 'Vermont': 'VT',\n",
    "    'Virginia': 'VA', 'Washington': 'WA', 'West Virginia': 'WV', 'Wisconsin': 'WI', 'Wyoming': 'WY'\n",
    "}\n",
    "\n",
    "# Converting full state names to acronyms\n",
    "state_counts['State_short'] = state_counts['State'].map(state_abbreviations)\n",
    "\n",
    "# Setting custom color scale\n",
    "custom_scale = [\n",
    "    (0.0, \"gainsboro\"),\n",
    "    (1.0, \"darkgreen\")\n",
    "]\n",
    "\n",
    "# Creating the choropleth map\n",
    "fig = px.choropleth(\n",
    "    state_counts,\n",
    "    locations='State_short',\n",
    "    locationmode='USA-states',\n",
    "    color='Count',\n",
    "    color_continuous_scale=custom_scale,  # Implementing custom color scale\n",
    "    scope=\"usa\",\n",
    "    title='Distribution of Companies Across the US States'\n",
    ")\n",
    "\n",
    "# Adding fonts and a scale\n",
    "fig.update_layout(\n",
    "    title={'text': 'Distribution of Companies Across the US States', 'font': {'family': 'Times New Roman'}},\n",
    "    font=dict(family=\"Times New Roman\"),\n",
    "    coloraxis_colorbar=dict(\n",
    "        title={'text': 'Company Count', 'font': {'family': 'Times New Roman'}},\n",
    "        tickvals=[state_counts['Count'].min(), state_counts['Count'].max()],\n",
    "        ticktext=['Low', 'High']\n",
    "    ),\n",
    "    width=1000,\n",
    "    height=600\n",
    ")\n",
    "\n",
    "# Displaying and saving the figure\n",
    "fig.write_image('Plots/Descriptive Statistics/State Map.png', scale=4)\n",
    "fig.show()\n"
   ]
  },
  {
   "cell_type": "code",
   "execution_count": 111,
   "metadata": {},
   "outputs": [
    {
     "data": {
      "image/png": "[encoded data removed]",
      "text/plain": [
       "<Figure size 1200x800 with 1 Axes>"
      ]
     },
     "metadata": {},
     "output_type": "display_data"
    }
   ],
   "source": [
    "# Sorting the DataFrame by 'Count' in descending order and selecting the top 10\n",
    "top_states = state_counts.sort_values(by='Count', ascending=False).head(10)\n",
    "\n",
    "# Creating a horizontal bar plot\n",
    "plt.figure(figsize=(12, 8))  # Set the figure size larger for full state names\n",
    "plt.barh(top_states['State'], top_states['Count'], color='darkgreen', edgecolor='black')  # Create a horizontal bar chart\n",
    "plt.gca().invert_yaxis()\n",
    "\n",
    "# Adding labels and title\n",
    "plt.xlabel('Number of Companies', fontsize=12)\n",
    "plt.ylabel('State', fontsize=12)  \n",
    "plt.title('Top 10 States by Number of Companies', fontsize=16)  \n",
    "\n",
    "# Displaying the plot\n",
    "plt.tight_layout() \n",
    "plt.show()  "
   ]
  },
  {
   "cell_type": "code",
   "execution_count": 112,
   "metadata": {},
   "outputs": [
    {
     "name": "stdout",
     "output_type": "stream",
     "text": [
      "Number of Companies in the top states\n"
     ]
    },
    {
     "data": {
      "text/html": [
       "<div>\n",
       "<style scoped>\n",
       "    .dataframe tbody tr th:only-of-type {\n",
       "        vertical-align: middle;\n",
       "    }\n",
       "\n",
       "    .dataframe tbody tr th {\n",
       "        vertical-align: top;\n",
       "    }\n",
       "\n",
       "    .dataframe thead th {\n",
       "        text-align: right;\n",
       "    }\n",
       "</style>\n",
       "<table border=\"1\" class=\"dataframe\">\n",
       "  <thead>\n",
       "    <tr style=\"text-align: right;\">\n",
       "      <th></th>\n",
       "      <th>State</th>\n",
       "      <th>Count</th>\n",
       "      <th>State_short</th>\n",
       "    </tr>\n",
       "  </thead>\n",
       "  <tbody>\n",
       "    <tr>\n",
       "      <th>0</th>\n",
       "      <td>California</td>\n",
       "      <td>1815</td>\n",
       "      <td>CA</td>\n",
       "    </tr>\n",
       "    <tr>\n",
       "      <th>1</th>\n",
       "      <td>New York</td>\n",
       "      <td>980</td>\n",
       "      <td>NY</td>\n",
       "    </tr>\n",
       "    <tr>\n",
       "      <th>2</th>\n",
       "      <td>Texas</td>\n",
       "      <td>722</td>\n",
       "      <td>TX</td>\n",
       "    </tr>\n",
       "    <tr>\n",
       "      <th>3</th>\n",
       "      <td>Florida</td>\n",
       "      <td>613</td>\n",
       "      <td>FL</td>\n",
       "    </tr>\n",
       "    <tr>\n",
       "      <th>4</th>\n",
       "      <td>Illinois</td>\n",
       "      <td>270</td>\n",
       "      <td>IL</td>\n",
       "    </tr>\n",
       "    <tr>\n",
       "      <th>5</th>\n",
       "      <td>Delaware</td>\n",
       "      <td>252</td>\n",
       "      <td>DE</td>\n",
       "    </tr>\n",
       "    <tr>\n",
       "      <th>6</th>\n",
       "      <td>Massachusetts</td>\n",
       "      <td>243</td>\n",
       "      <td>MA</td>\n",
       "    </tr>\n",
       "    <tr>\n",
       "      <th>7</th>\n",
       "      <td>Colorado</td>\n",
       "      <td>206</td>\n",
       "      <td>CO</td>\n",
       "    </tr>\n",
       "    <tr>\n",
       "      <th>8</th>\n",
       "      <td>Georgia</td>\n",
       "      <td>202</td>\n",
       "      <td>GA</td>\n",
       "    </tr>\n",
       "    <tr>\n",
       "      <th>9</th>\n",
       "      <td>Washington</td>\n",
       "      <td>185</td>\n",
       "      <td>WA</td>\n",
       "    </tr>\n",
       "  </tbody>\n",
       "</table>\n",
       "</div>"
      ],
      "text/plain": [
       "           State  Count State_short\n",
       "0     California   1815          CA\n",
       "1       New York    980          NY\n",
       "2          Texas    722          TX\n",
       "3        Florida    613          FL\n",
       "4       Illinois    270          IL\n",
       "5       Delaware    252          DE\n",
       "6  Massachusetts    243          MA\n",
       "7       Colorado    206          CO\n",
       "8        Georgia    202          GA\n",
       "9     Washington    185          WA"
      ]
     },
     "metadata": {},
     "output_type": "display_data"
    }
   ],
   "source": [
    "print(\"Number of Companies in the top states\")\n",
    "display(state_counts.head(10))"
   ]
  },
  {
   "cell_type": "code",
   "execution_count": 113,
   "metadata": {},
   "outputs": [
    {
     "data": {
      "application/vnd.plotly.v1+json": {
       "config": {
        "plotlyServerURL": "https://plot.ly"
       },
       "data": [
        {
         "coloraxis": "coloraxis",
         "geo": "geo",
         "hovertemplate": "State_short=%{location}<br>Percentage=%{z}<extra></extra>",
         "locationmode": "USA-states",
         "locations": [
          "CA",
          "NY",
          "TX",
          "FL",
          "IL",
          "DE",
          "MA",
          "CO",
          "GA",
          "WA",
          "PA",
          "NJ",
          "AZ",
          "OH",
          "VA",
          "NC",
          "MI",
          "MD",
          "DC",
          "UT",
          "TN",
          "OR",
          "MN",
          "CT",
          "MO",
          "NV",
          "IN",
          "SC",
          "WY",
          "KY",
          "WI",
          "OK",
          "ID",
          "AL",
          "LA",
          "KS",
          "ME",
          "IA",
          "NH",
          "AR",
          "NM",
          "VT",
          "NE",
          "RI",
          "MT",
          "HI",
          "MS",
          "ND",
          "AK",
          "WV",
          "SD"
         ],
         "name": "",
         "type": "choropleth",
         "z": [
          19.11845730027548,
          12.755102040816327,
          11.49584487534626,
          8.64600326264274,
          13.703703703703704,
          20.634920634920633,
          23.868312757201647,
          10.679611650485436,
          12.871287128712872,
          14.594594594594595,
          8.152173913043478,
          12.087912087912088,
          10,
          9.655172413793103,
          20,
          13.043478260869565,
          7.758620689655173,
          16.831683168316832,
          14.736842105263156,
          10.344827586206897,
          10.465116279069768,
          10,
          7.5,
          6.666666666666667,
          6.666666666666667,
          7.042253521126761,
          10.144927536231885,
          7.575757575757576,
          8.47457627118644,
          16.071428571428573,
          11.538461538461538,
          13.953488372093023,
          4.878048780487805,
          13.88888888888889,
          0,
          0,
          15,
          5.263157894736842,
          15.789473684210526,
          0,
          14.285714285714285,
          14.285714285714285,
          0,
          8.333333333333332,
          8.333333333333332,
          0,
          0,
          12.5,
          0,
          0,
          0
         ]
        }
       ],
       "layout": {
        "coloraxis": {
         "colorbar": {
          "ticktext": [
           "Low",
           "Medium",
           "High"
          ],
          "tickvals": [
           0,
           10.144927536231885,
           23.868312757201647
          ],
          "title": {
           "text": "Percentage (%)"
          }
         },
         "colorscale": [
          [
           0,
           "gainsboro"
          ],
          [
           1,
           "darkgreen"
          ]
         ]
        },
        "geo": {
         "center": {},
         "domain": {
          "x": [
           0,
           1
          ],
          "y": [
           0,
           1
          ]
         },
         "scope": "usa"
        },
        "height": 600,
        "legend": {
         "tracegroupgap": 0
        },
        "template": {
         "data": {
          "bar": [
           {
            "error_x": {
             "color": "#2a3f5f"
            },
            "error_y": {
             "color": "#2a3f5f"
            },
            "marker": {
             "line": {
              "color": "#E5ECF6",
              "width": 0.5
             },
             "pattern": {
              "fillmode": "overlay",
              "size": 10,
              "solidity": 0.2
             }
            },
            "type": "bar"
           }
          ],
          "barpolar": [
           {
            "marker": {
             "line": {
              "color": "#E5ECF6",
              "width": 0.5
             },
             "pattern": {
              "fillmode": "overlay",
              "size": 10,
              "solidity": 0.2
             }
            },
            "type": "barpolar"
           }
          ],
          "carpet": [
           {
            "aaxis": {
             "endlinecolor": "#2a3f5f",
             "gridcolor": "white",
             "linecolor": "white",
             "minorgridcolor": "white",
             "startlinecolor": "#2a3f5f"
            },
            "baxis": {
             "endlinecolor": "#2a3f5f",
             "gridcolor": "white",
             "linecolor": "white",
             "minorgridcolor": "white",
             "startlinecolor": "#2a3f5f"
            },
            "type": "carpet"
           }
          ],
          "choropleth": [
           {
            "colorbar": {
             "outlinewidth": 0,
             "ticks": ""
            },
            "type": "choropleth"
           }
          ],
          "contour": [
           {
            "colorbar": {
             "outlinewidth": 0,
             "ticks": ""
            },
            "colorscale": [
             [
              0,
              "#0d0887"
             ],
             [
              0.1111111111111111,
              "#46039f"
             ],
             [
              0.2222222222222222,
              "#7201a8"
             ],
             [
              0.3333333333333333,
              "#9c179e"
             ],
             [
              0.4444444444444444,
              "#bd3786"
             ],
             [
              0.5555555555555556,
              "#d8576b"
             ],
             [
              0.6666666666666666,
              "#ed7953"
             ],
             [
              0.7777777777777778,
              "#fb9f3a"
             ],
             [
              0.8888888888888888,
              "#fdca26"
             ],
             [
              1,
              "#f0f921"
             ]
            ],
            "type": "contour"
           }
          ],
          "contourcarpet": [
           {
            "colorbar": {
             "outlinewidth": 0,
             "ticks": ""
            },
            "type": "contourcarpet"
           }
          ],
          "heatmap": [
           {
            "colorbar": {
             "outlinewidth": 0,
             "ticks": ""
            },
            "colorscale": [
             [
              0,
              "#0d0887"
             ],
             [
              0.1111111111111111,
              "#46039f"
             ],
             [
              0.2222222222222222,
              "#7201a8"
             ],
             [
              0.3333333333333333,
              "#9c179e"
             ],
             [
              0.4444444444444444,
              "#bd3786"
             ],
             [
              0.5555555555555556,
              "#d8576b"
             ],
             [
              0.6666666666666666,
              "#ed7953"
             ],
             [
              0.7777777777777778,
              "#fb9f3a"
             ],
             [
              0.8888888888888888,
              "#fdca26"
             ],
             [
              1,
              "#f0f921"
             ]
            ],
            "type": "heatmap"
           }
          ],
          "heatmapgl": [
           {
            "colorbar": {
             "outlinewidth": 0,
             "ticks": ""
            },
            "colorscale": [
             [
              0,
              "#0d0887"
             ],
             [
              0.1111111111111111,
              "#46039f"
             ],
             [
              0.2222222222222222,
              "#7201a8"
             ],
             [
              0.3333333333333333,
              "#9c179e"
             ],
             [
              0.4444444444444444,
              "#bd3786"
             ],
             [
              0.5555555555555556,
              "#d8576b"
             ],
             [
              0.6666666666666666,
              "#ed7953"
             ],
             [
              0.7777777777777778,
              "#fb9f3a"
             ],
             [
              0.8888888888888888,
              "#fdca26"
             ],
             [
              1,
              "#f0f921"
             ]
            ],
            "type": "heatmapgl"
           }
          ],
          "histogram": [
           {
            "marker": {
             "pattern": {
              "fillmode": "overlay",
              "size": 10,
              "solidity": 0.2
             }
            },
            "type": "histogram"
           }
          ],
          "histogram2d": [
           {
            "colorbar": {
             "outlinewidth": 0,
             "ticks": ""
            },
            "colorscale": [
             [
              0,
              "#0d0887"
             ],
             [
              0.1111111111111111,
              "#46039f"
             ],
             [
              0.2222222222222222,
              "#7201a8"
             ],
             [
              0.3333333333333333,
              "#9c179e"
             ],
             [
              0.4444444444444444,
              "#bd3786"
             ],
             [
              0.5555555555555556,
              "#d8576b"
             ],
             [
              0.6666666666666666,
              "#ed7953"
             ],
             [
              0.7777777777777778,
              "#fb9f3a"
             ],
             [
              0.8888888888888888,
              "#fdca26"
             ],
             [
              1,
              "#f0f921"
             ]
            ],
            "type": "histogram2d"
           }
          ],
          "histogram2dcontour": [
           {
            "colorbar": {
             "outlinewidth": 0,
             "ticks": ""
            },
            "colorscale": [
             [
              0,
              "#0d0887"
             ],
             [
              0.1111111111111111,
              "#46039f"
             ],
             [
              0.2222222222222222,
              "#7201a8"
             ],
             [
              0.3333333333333333,
              "#9c179e"
             ],
             [
              0.4444444444444444,
              "#bd3786"
             ],
             [
              0.5555555555555556,
              "#d8576b"
             ],
             [
              0.6666666666666666,
              "#ed7953"
             ],
             [
              0.7777777777777778,
              "#fb9f3a"
             ],
             [
              0.8888888888888888,
              "#fdca26"
             ],
             [
              1,
              "#f0f921"
             ]
            ],
            "type": "histogram2dcontour"
           }
          ],
          "mesh3d": [
           {
            "colorbar": {
             "outlinewidth": 0,
             "ticks": ""
            },
            "type": "mesh3d"
           }
          ],
          "parcoords": [
           {
            "line": {
             "colorbar": {
              "outlinewidth": 0,
              "ticks": ""
             }
            },
            "type": "parcoords"
           }
          ],
          "pie": [
           {
            "automargin": true,
            "type": "pie"
           }
          ],
          "scatter": [
           {
            "fillpattern": {
             "fillmode": "overlay",
             "size": 10,
             "solidity": 0.2
            },
            "type": "scatter"
           }
          ],
          "scatter3d": [
           {
            "line": {
             "colorbar": {
              "outlinewidth": 0,
              "ticks": ""
             }
            },
            "marker": {
             "colorbar": {
              "outlinewidth": 0,
              "ticks": ""
             }
            },
            "type": "scatter3d"
           }
          ],
          "scattercarpet": [
           {
            "marker": {
             "colorbar": {
              "outlinewidth": 0,
              "ticks": ""
             }
            },
            "type": "scattercarpet"
           }
          ],
          "scattergeo": [
           {
            "marker": {
             "colorbar": {
              "outlinewidth": 0,
              "ticks": ""
             }
            },
            "type": "scattergeo"
           }
          ],
          "scattergl": [
           {
            "marker": {
             "colorbar": {
              "outlinewidth": 0,
              "ticks": ""
             }
            },
            "type": "scattergl"
           }
          ],
          "scattermapbox": [
           {
            "marker": {
             "colorbar": {
              "outlinewidth": 0,
              "ticks": ""
             }
            },
            "type": "scattermapbox"
           }
          ],
          "scatterpolar": [
           {
            "marker": {
             "colorbar": {
              "outlinewidth": 0,
              "ticks": ""
             }
            },
            "type": "scatterpolar"
           }
          ],
          "scatterpolargl": [
           {
            "marker": {
             "colorbar": {
              "outlinewidth": 0,
              "ticks": ""
             }
            },
            "type": "scatterpolargl"
           }
          ],
          "scatterternary": [
           {
            "marker": {
             "colorbar": {
              "outlinewidth": 0,
              "ticks": ""
             }
            },
            "type": "scatterternary"
           }
          ],
          "surface": [
           {
            "colorbar": {
             "outlinewidth": 0,
             "ticks": ""
            },
            "colorscale": [
             [
              0,
              "#0d0887"
             ],
             [
              0.1111111111111111,
              "#46039f"
             ],
             [
              0.2222222222222222,
              "#7201a8"
             ],
             [
              0.3333333333333333,
              "#9c179e"
             ],
             [
              0.4444444444444444,
              "#bd3786"
             ],
             [
              0.5555555555555556,
              "#d8576b"
             ],
             [
              0.6666666666666666,
              "#ed7953"
             ],
             [
              0.7777777777777778,
              "#fb9f3a"
             ],
             [
              0.8888888888888888,
              "#fdca26"
             ],
             [
              1,
              "#f0f921"
             ]
            ],
            "type": "surface"
           }
          ],
          "table": [
           {
            "cells": {
             "fill": {
              "color": "#EBF0F8"
             },
             "line": {
              "color": "white"
             }
            },
            "header": {
             "fill": {
              "color": "#C8D4E3"
             },
             "line": {
              "color": "white"
             }
            },
            "type": "table"
           }
          ]
         },
         "layout": {
          "annotationdefaults": {
           "arrowcolor": "#2a3f5f",
           "arrowhead": 0,
           "arrowwidth": 1
          },
          "autotypenumbers": "strict",
          "coloraxis": {
           "colorbar": {
            "outlinewidth": 0,
            "ticks": ""
           }
          },
          "colorscale": {
           "diverging": [
            [
             0,
             "#8e0152"
            ],
            [
             0.1,
             "#c51b7d"
            ],
            [
             0.2,
             "#de77ae"
            ],
            [
             0.3,
             "#f1b6da"
            ],
            [
             0.4,
             "#fde0ef"
            ],
            [
             0.5,
             "#f7f7f7"
            ],
            [
             0.6,
             "#e6f5d0"
            ],
            [
             0.7,
             "#b8e186"
            ],
            [
             0.8,
             "#7fbc41"
            ],
            [
             0.9,
             "#4d9221"
            ],
            [
             1,
             "#276419"
            ]
           ],
           "sequential": [
            [
             0,
             "#0d0887"
            ],
            [
             0.1111111111111111,
             "#46039f"
            ],
            [
             0.2222222222222222,
             "#7201a8"
            ],
            [
             0.3333333333333333,
             "#9c179e"
            ],
            [
             0.4444444444444444,
             "#bd3786"
            ],
            [
             0.5555555555555556,
             "#d8576b"
            ],
            [
             0.6666666666666666,
             "#ed7953"
            ],
            [
             0.7777777777777778,
             "#fb9f3a"
            ],
            [
             0.8888888888888888,
             "#fdca26"
            ],
            [
             1,
             "#f0f921"
            ]
           ],
           "sequentialminus": [
            [
             0,
             "#0d0887"
            ],
            [
             0.1111111111111111,
             "#46039f"
            ],
            [
             0.2222222222222222,
             "#7201a8"
            ],
            [
             0.3333333333333333,
             "#9c179e"
            ],
            [
             0.4444444444444444,
             "#bd3786"
            ],
            [
             0.5555555555555556,
             "#d8576b"
            ],
            [
             0.6666666666666666,
             "#ed7953"
            ],
            [
             0.7777777777777778,
             "#fb9f3a"
            ],
            [
             0.8888888888888888,
             "#fdca26"
            ],
            [
             1,
             "#f0f921"
            ]
           ]
          },
          "colorway": [
           "#636efa",
           "#EF553B",
           "#00cc96",
           "#ab63fa",
           "#FFA15A",
           "#19d3f3",
           "#FF6692",
           "#B6E880",
           "#FF97FF",
           "#FECB52"
          ],
          "font": {
           "color": "#2a3f5f"
          },
          "geo": {
           "bgcolor": "white",
           "lakecolor": "white",
           "landcolor": "#E5ECF6",
           "showlakes": true,
           "showland": true,
           "subunitcolor": "white"
          },
          "hoverlabel": {
           "align": "left"
          },
          "hovermode": "closest",
          "mapbox": {
           "style": "light"
          },
          "paper_bgcolor": "white",
          "plot_bgcolor": "#E5ECF6",
          "polar": {
           "angularaxis": {
            "gridcolor": "white",
            "linecolor": "white",
            "ticks": ""
           },
           "bgcolor": "#E5ECF6",
           "radialaxis": {
            "gridcolor": "white",
            "linecolor": "white",
            "ticks": ""
           }
          },
          "scene": {
           "xaxis": {
            "backgroundcolor": "#E5ECF6",
            "gridcolor": "white",
            "gridwidth": 2,
            "linecolor": "white",
            "showbackground": true,
            "ticks": "",
            "zerolinecolor": "white"
           },
           "yaxis": {
            "backgroundcolor": "#E5ECF6",
            "gridcolor": "white",
            "gridwidth": 2,
            "linecolor": "white",
            "showbackground": true,
            "ticks": "",
            "zerolinecolor": "white"
           },
           "zaxis": {
            "backgroundcolor": "#E5ECF6",
            "gridcolor": "white",
            "gridwidth": 2,
            "linecolor": "white",
            "showbackground": true,
            "ticks": "",
            "zerolinecolor": "white"
           }
          },
          "shapedefaults": {
           "line": {
            "color": "#2a3f5f"
           }
          },
          "ternary": {
           "aaxis": {
            "gridcolor": "white",
            "linecolor": "white",
            "ticks": ""
           },
           "baxis": {
            "gridcolor": "white",
            "linecolor": "white",
            "ticks": ""
           },
           "bgcolor": "#E5ECF6",
           "caxis": {
            "gridcolor": "white",
            "linecolor": "white",
            "ticks": ""
           }
          },
          "title": {
           "x": 0.05
          },
          "xaxis": {
           "automargin": true,
           "gridcolor": "white",
           "linecolor": "white",
           "ticks": "",
           "title": {
            "standoff": 15
           },
           "zerolinecolor": "white",
           "zerolinewidth": 2
          },
          "yaxis": {
           "automargin": true,
           "gridcolor": "white",
           "linecolor": "white",
           "ticks": "",
           "title": {
            "standoff": 15
           },
           "zerolinecolor": "white",
           "zerolinewidth": 2
          }
         }
        },
        "title": {
         "text": "Percentage of Companies with Keyword Across the US States"
        },
        "width": 1000
       }
      }
     },
     "metadata": {},
     "output_type": "display_data"
    }
   ],
   "source": [
    "# Calculating the total number of companies per state\n",
    "total_counts = scraped_df['Headquarters State'].value_counts().reset_index()\n",
    "total_counts.columns = ['State', 'Total_Count']\n",
    "\n",
    "# Calculating the number of companies per state where keyword_bin is True\n",
    "filtered_df = scraped_df[scraped_df['keyword_bin'] == True]\n",
    "keyword_counts = filtered_df['Headquarters State'].value_counts().reset_index()\n",
    "keyword_counts.columns = ['State', 'Keyword_Count']\n",
    "\n",
    "# Merging the two dataframes on the state column\n",
    "state_counts = total_counts.merge(keyword_counts, on='State', how='left')\n",
    "state_counts['Keyword_Count'] = state_counts['Keyword_Count'].fillna(0)\n",
    "\n",
    "# Calculating the percentage of companies with keyword_bin = True\n",
    "state_counts['Percentage'] = (state_counts['Keyword_Count'] / state_counts['Total_Count']) * 100\n",
    "\n",
    "# Converting  full state names to abbreviations in your DataFrame\n",
    "state_counts['State_short'] = state_counts['State'].map(state_abbreviations)\n",
    "\n",
    "custom_scale = [\n",
    "    (0.0, \"gainsboro\"),       # start with gainsboro at 0%\n",
    "    (1.0, \"darkgreen\")        # dark green at 100%\n",
    "]\n",
    "\n",
    "# Creating the choropleth map\n",
    "fig = px.choropleth(\n",
    "    state_counts,\n",
    "    locations='State_short',\n",
    "    locationmode='USA-states',\n",
    "    color='Percentage',\n",
    "    color_continuous_scale=custom_scale,  # Use custom color scale\n",
    "    scope=\"usa\",\n",
    "    title='Percentage of Companies with Keyword Across the US States'\n",
    ")\n",
    "\n",
    "# Adding a color scale\n",
    "fig.update_layout(\n",
    "    coloraxis_colorbar=dict(\n",
    "        title='Percentage (%)',\n",
    "        tickvals=[state_counts['Percentage'].min(), state_counts['Percentage'].median(), state_counts['Percentage'].max()],\n",
    "        ticktext=['Low', 'Medium', 'High']\n",
    "    ), \n",
    "    width=1000,\n",
    "    height=600\n",
    ")\n",
    "\n",
    "# Showing the figure\n",
    "fig.show()\n"
   ]
  },
  {
   "cell_type": "code",
   "execution_count": 114,
   "metadata": {},
   "outputs": [
    {
     "name": "stdout",
     "output_type": "stream",
     "text": [
      "Number of Companies in the top states\n"
     ]
    },
    {
     "data": {
      "text/html": [
       "<div>\n",
       "<style scoped>\n",
       "    .dataframe tbody tr th:only-of-type {\n",
       "        vertical-align: middle;\n",
       "    }\n",
       "\n",
       "    .dataframe tbody tr th {\n",
       "        vertical-align: top;\n",
       "    }\n",
       "\n",
       "    .dataframe thead th {\n",
       "        text-align: right;\n",
       "    }\n",
       "</style>\n",
       "<table border=\"1\" class=\"dataframe\">\n",
       "  <thead>\n",
       "    <tr style=\"text-align: right;\">\n",
       "      <th></th>\n",
       "      <th>State</th>\n",
       "      <th>Total_Count</th>\n",
       "      <th>Keyword_Count</th>\n",
       "      <th>Percentage</th>\n",
       "      <th>State_short</th>\n",
       "    </tr>\n",
       "  </thead>\n",
       "  <tbody>\n",
       "    <tr>\n",
       "      <th>0</th>\n",
       "      <td>California</td>\n",
       "      <td>1815</td>\n",
       "      <td>347.0</td>\n",
       "      <td>19.118457</td>\n",
       "      <td>CA</td>\n",
       "    </tr>\n",
       "    <tr>\n",
       "      <th>1</th>\n",
       "      <td>New York</td>\n",
       "      <td>980</td>\n",
       "      <td>125.0</td>\n",
       "      <td>12.755102</td>\n",
       "      <td>NY</td>\n",
       "    </tr>\n",
       "    <tr>\n",
       "      <th>2</th>\n",
       "      <td>Texas</td>\n",
       "      <td>722</td>\n",
       "      <td>83.0</td>\n",
       "      <td>11.495845</td>\n",
       "      <td>TX</td>\n",
       "    </tr>\n",
       "    <tr>\n",
       "      <th>3</th>\n",
       "      <td>Florida</td>\n",
       "      <td>613</td>\n",
       "      <td>53.0</td>\n",
       "      <td>8.646003</td>\n",
       "      <td>FL</td>\n",
       "    </tr>\n",
       "    <tr>\n",
       "      <th>4</th>\n",
       "      <td>Illinois</td>\n",
       "      <td>270</td>\n",
       "      <td>37.0</td>\n",
       "      <td>13.703704</td>\n",
       "      <td>IL</td>\n",
       "    </tr>\n",
       "    <tr>\n",
       "      <th>5</th>\n",
       "      <td>Delaware</td>\n",
       "      <td>252</td>\n",
       "      <td>52.0</td>\n",
       "      <td>20.634921</td>\n",
       "      <td>DE</td>\n",
       "    </tr>\n",
       "    <tr>\n",
       "      <th>6</th>\n",
       "      <td>Massachusetts</td>\n",
       "      <td>243</td>\n",
       "      <td>58.0</td>\n",
       "      <td>23.868313</td>\n",
       "      <td>MA</td>\n",
       "    </tr>\n",
       "    <tr>\n",
       "      <th>7</th>\n",
       "      <td>Colorado</td>\n",
       "      <td>206</td>\n",
       "      <td>22.0</td>\n",
       "      <td>10.679612</td>\n",
       "      <td>CO</td>\n",
       "    </tr>\n",
       "    <tr>\n",
       "      <th>8</th>\n",
       "      <td>Georgia</td>\n",
       "      <td>202</td>\n",
       "      <td>26.0</td>\n",
       "      <td>12.871287</td>\n",
       "      <td>GA</td>\n",
       "    </tr>\n",
       "    <tr>\n",
       "      <th>9</th>\n",
       "      <td>Washington</td>\n",
       "      <td>185</td>\n",
       "      <td>27.0</td>\n",
       "      <td>14.594595</td>\n",
       "      <td>WA</td>\n",
       "    </tr>\n",
       "  </tbody>\n",
       "</table>\n",
       "</div>"
      ],
      "text/plain": [
       "           State  Total_Count  Keyword_Count  Percentage State_short\n",
       "0     California         1815          347.0   19.118457          CA\n",
       "1       New York          980          125.0   12.755102          NY\n",
       "2          Texas          722           83.0   11.495845          TX\n",
       "3        Florida          613           53.0    8.646003          FL\n",
       "4       Illinois          270           37.0   13.703704          IL\n",
       "5       Delaware          252           52.0   20.634921          DE\n",
       "6  Massachusetts          243           58.0   23.868313          MA\n",
       "7       Colorado          206           22.0   10.679612          CO\n",
       "8        Georgia          202           26.0   12.871287          GA\n",
       "9     Washington          185           27.0   14.594595          WA"
      ]
     },
     "metadata": {},
     "output_type": "display_data"
    }
   ],
   "source": [
    "print(\"Number of Companies in the top states\")\n",
    "display(state_counts.head(10))"
   ]
  },
  {
   "cell_type": "code",
   "execution_count": 116,
   "metadata": {},
   "outputs": [
    {
     "data": {
      "image/png": "[encoded data removed]",
      "text/plain": [
       "<Figure size 1200x800 with 1 Axes>"
      ]
     },
     "metadata": {},
     "output_type": "display_data"
    }
   ],
   "source": [
    "import pandas as pd\n",
    "import matplotlib.pyplot as plt\n",
    "\n",
    "# Calculating the total number per state\n",
    "state_counts = descriptive_df['Headquarters State'].value_counts().reset_index()\n",
    "state_counts.columns = ['State', 'Count']\n",
    "\n",
    "# Loading the population data from the Excel file\n",
    "population_df = pd.read_excel('Data/External Figure Data/Population by state.xlsx')\n",
    "\n",
    "# Merging the population data with the state_counts DataFrame\n",
    "merged_df = state_counts.merge(population_df, left_on='State', right_on='NAME', how='left')\n",
    "\n",
    "# Calculating companies per capita (multiplying by a factor of 1 million for better readability)\n",
    "merged_df['Companies per Million People'] = (merged_df['Count'] / merged_df['POPESTIMATE2023']) * 1e6\n",
    "\n",
    "# Sorting by the new metric and selecting the top 10 states\n",
    "top_states_per_capita = merged_df.sort_values('Companies per Million People', ascending=False).head(10)\n",
    "\n",
    "# Set the font to Times New Roman\n",
    "plt.rcParams['font.family'] = 'serif'\n",
    "plt.rcParams['font.serif'] = 'Times New Roman'\n",
    "\n",
    "# Creating a horizontal bar plot\n",
    "plt.figure(figsize=(12, 8))\n",
    "plt.barh(top_states_per_capita['State'], top_states_per_capita['Companies per Million People'], color='darkgreen', edgecolor='black')\n",
    "plt.gca().invert_yaxis()\n",
    "plt.xlabel('Number of Startups per Million People', fontsize=12)\n",
    "plt.ylabel('State', fontsize=12)\n",
    "plt.title('Top 10 States by Number of Startups per Million People', fontsize=16)\n",
    "\n",
    "# Displaying the plot\n",
    "plt.tight_layout()  # Adjust layout to not cut off labels\n",
    "plt.savefig('Plots/Descriptive Statistics/Startups per Mil.png', dpi=300, bbox_inches='tight')\n",
    "plt.show()\n"
   ]
  },
  {
   "cell_type": "markdown",
   "metadata": {},
   "source": [
    "## Characteristics of Scraping"
   ]
  },
  {
   "cell_type": "code",
   "execution_count": 77,
   "metadata": {},
   "outputs": [
    {
     "name": "stdout",
     "output_type": "stream",
     "text": [
      "<class 'pandas.core.frame.DataFrame'>\n",
      "Index: 7964 entries, 2 to 17978\n",
      "Data columns (total 54 columns):\n",
      " #   Column                                  Non-Null Count  Dtype         \n",
      "---  ------                                  --------------  -----         \n",
      " 0   ID                                      7964 non-null   int64         \n",
      " 1   company                                 7964 non-null   object        \n",
      " 2   Founded Date                            7964 non-null   datetime64[ns]\n",
      " 3   website                                 7964 non-null   object        \n",
      " 4   Headquarters Location                   7964 non-null   object        \n",
      " 5   Industry Groups                         7964 non-null   object        \n",
      " 6   Industries                              7964 non-null   object        \n",
      " 7   CB Rank (Company)                       7964 non-null   float64       \n",
      " 8   Full Description                        4794 non-null   object        \n",
      " 9   Number of Employees                     7964 non-null   object        \n",
      " 10  Number of Funding Rounds                7964 non-null   float64       \n",
      " 11  Funding Status                          1170 non-null   object        \n",
      " 12  Last Funding Date                       1046 non-null   datetime64[ns]\n",
      " 13  Last Funding Amount Currency (in USD)   7964 non-null   float64       \n",
      " 14  Last Funding Type                       1046 non-null   object        \n",
      " 15  Total Funding Amount Currency (in USD)  7964 non-null   float64       \n",
      " 16  Number of Founders                      3559 non-null   float64       \n",
      " 17  Number of Employees.1                   7964 non-null   object        \n",
      " 18  IPO Status                              7964 non-null   object        \n",
      " 19  IPO Date                                7 non-null      object        \n",
      " 20  Valuation at IPO Currency (in USD)      1 non-null      float64       \n",
      " 21  IPqwery - Patents Granted               661 non-null    object        \n",
      " 22  IPqwery - Trademarks Registered         661 non-null    object        \n",
      " 23  IPqwery - Most Popular Patent Class     94 non-null     object        \n",
      " 24  NA Count                                7964 non-null   int64         \n",
      " 25  age                                     7964 non-null   int64         \n",
      " 26  founding_year                           7964 non-null   int64         \n",
      " 27  org_uuid                                7964 non-null   int64         \n",
      " 28  source_x                                7964 non-null   int64         \n",
      " 29  Unnamed: 0                              7964 non-null   float64       \n",
      " 30  text_len                                7964 non-null   float64       \n",
      " 31  source_y                                7964 non-null   object        \n",
      " 32  text                                    7964 non-null   object        \n",
      " 33  type                                    7964 non-null   object        \n",
      " 34  closest_snapshot                        6245 non-null   object        \n",
      " 35  closest_snapshot_time                   6245 non-null   datetime64[ns]\n",
      " 36  snapshot_in_window                      7964 non-null   bool          \n",
      " 37  text_preprocessed                       7956 non-null   object        \n",
      " 38  ai_keyword_count                        7964 non-null   float64       \n",
      " 39  matched_keywords                        7964 non-null   object        \n",
      " 40  Headquarters State                      7964 non-null   object        \n",
      " 41  funding_bin                             7964 non-null   bool          \n",
      " 42  keyword_bin                             7964 non-null   bool          \n",
      " 43  fund_success                            7964 non-null   bool          \n",
      " 44  AI_bin                                  7964 non-null   bool          \n",
      " 45  Founded Year                            7964 non-null   int32         \n",
      " 46  Year_2018                               7964 non-null   bool          \n",
      " 47  Year_2019                               7964 non-null   bool          \n",
      " 48  Year_2020                               7964 non-null   bool          \n",
      " 49  Year_2021                               7964 non-null   bool          \n",
      " 50  Year_2022                               7964 non-null   bool          \n",
      " 51  Last Funding Type ORD                   7964 non-null   float64       \n",
      " 52  Series_A_bin                            7964 non-null   bool          \n",
      " 53  Number of Employees ORD                 7960 non-null   float64       \n",
      "dtypes: bool(11), datetime64[ns](3), float64(11), int32(1), int64(6), object(22)\n",
      "memory usage: 2.7+ MB\n"
     ]
    }
   ],
   "source": [
    "descriptive_df.info()"
   ]
  },
  {
   "cell_type": "code",
   "execution_count": 78,
   "metadata": {},
   "outputs": [
    {
     "name": "stdout",
     "output_type": "stream",
     "text": [
      "Descriptive Statistics for Companies with Text Data:\n",
      "                   ID company                   Founded Date  \\\n",
      "count     7956.000000    7956                           7956   \n",
      "unique            NaN    7940                            NaN   \n",
      "top               NaN  Fitted                            NaN   \n",
      "freq              NaN       2                            NaN   \n",
      "mean     56650.907994     NaN  2020-03-01 15:04:26.063348480   \n",
      "min         60.000000     NaN            2018-03-19 00:00:00   \n",
      "25%      35179.000000     NaN            2019-01-01 00:00:00   \n",
      "50%      55412.000000     NaN            2020-01-01 00:00:00   \n",
      "75%      77858.000000     NaN            2021-01-01 00:00:00   \n",
      "max     104945.000000     NaN            2022-12-31 00:00:00   \n",
      "std      25968.007204     NaN                            NaN   \n",
      "\n",
      "                            website              Headquarters Location  \\\n",
      "count                          7956                               7956   \n",
      "unique                         7956                               1697   \n",
      "top     https://www.promptlayer.com  New York, New York, United States   \n",
      "freq                              1                                704   \n",
      "mean                            NaN                                NaN   \n",
      "min                             NaN                                NaN   \n",
      "25%                             NaN                                NaN   \n",
      "50%                             NaN                                NaN   \n",
      "75%                             NaN                                NaN   \n",
      "max                             NaN                                NaN   \n",
      "std                             NaN                                NaN   \n",
      "\n",
      "       Industry Groups Industries  CB Rank (Company)  \\\n",
      "count             7956       7956       7.956000e+03   \n",
      "unique            2947       6310                NaN   \n",
      "top        Health Care   Software                NaN   \n",
      "freq               353         86                NaN   \n",
      "mean               NaN        NaN       1.149542e+06   \n",
      "min                NaN        NaN       1.324400e+04   \n",
      "25%                NaN        NaN       3.604365e+05   \n",
      "50%                NaN        NaN       8.848545e+05   \n",
      "75%                NaN        NaN       1.828998e+06   \n",
      "max                NaN        NaN       3.221397e+06   \n",
      "std                NaN        NaN       8.926699e+05   \n",
      "\n",
      "                                         Full Description Number of Employees  \\\n",
      "count                                                4789                7956   \n",
      "unique                                               4789                   9   \n",
      "top     Nerdee's a seller of clothing, accessories, ga...                1-10   \n",
      "freq                                                    1                4406   \n",
      "mean                                                  NaN                 NaN   \n",
      "min                                                   NaN                 NaN   \n",
      "25%                                                   NaN                 NaN   \n",
      "50%                                                   NaN                 NaN   \n",
      "75%                                                   NaN                 NaN   \n",
      "max                                                   NaN                 NaN   \n",
      "std                                                   NaN                 NaN   \n",
      "\n",
      "        ...  AI_bin Founded Year Year_2018  Year_2019 Year_2020  Year_2021  \\\n",
      "count   ...    7956  7956.000000      7956       7956      7956       7956   \n",
      "unique  ...       2          NaN         2          2         2          2   \n",
      "top     ...   False          NaN     False      False     False      False   \n",
      "freq    ...    6751          NaN      7597       5498      5387       6272   \n",
      "mean    ...     NaN  2020.035194       NaN        NaN       NaN        NaN   \n",
      "min     ...     NaN  2018.000000       NaN        NaN       NaN        NaN   \n",
      "25%     ...     NaN  2019.000000       NaN        NaN       NaN        NaN   \n",
      "50%     ...     NaN  2020.000000       NaN        NaN       NaN        NaN   \n",
      "75%     ...     NaN  2021.000000       NaN        NaN       NaN        NaN   \n",
      "max     ...     NaN  2022.000000       NaN        NaN       NaN        NaN   \n",
      "std     ...     NaN     1.070262       NaN        NaN       NaN        NaN   \n",
      "\n",
      "        Year_2022 Last Funding Type ORD Series_A_bin Number of Employees ORD  \n",
      "count        7956           7956.000000         7956             7952.000000  \n",
      "unique          2                   NaN            2                     NaN  \n",
      "top         False                   NaN        False                     NaN  \n",
      "freq         7070                   NaN         7914                     NaN  \n",
      "mean          NaN              0.205631          NaN                1.626635  \n",
      "min           NaN              0.000000          NaN                1.000000  \n",
      "25%           NaN              0.000000          NaN                1.000000  \n",
      "50%           NaN              0.000000          NaN                1.000000  \n",
      "75%           NaN              0.000000          NaN                2.000000  \n",
      "max           NaN              6.000000          NaN                8.000000  \n",
      "std           NaN              0.571213          NaN                0.951502  \n",
      "\n",
      "[11 rows x 54 columns]\n",
      "\n",
      "Average Text Length: 14471.354826546003\n",
      "\n",
      "Average Days between Founding Year and Last Funding Date: 501.5157894736842 or  1.3730753989697035  years.\n",
      "\n",
      "Median Days between Founding Year and Last Funding Date: 430.0 or  1.1772758384668036  years.\n"
     ]
    },
    {
     "name": "stderr",
     "output_type": "stream",
     "text": [
      "/var/folders/xt/0h_f_zjs1hvcdg6rdl1hs5_c0000gn/T/ipykernel_89900/1619899855.py:14: SettingWithCopyWarning:\n",
      "\n",
      "\n",
      "A value is trying to be set on a copy of a slice from a DataFrame.\n",
      "Try using .loc[row_indexer,col_indexer] = value instead\n",
      "\n",
      "See the caveats in the documentation: https://pandas.pydata.org/pandas-docs/stable/user_guide/indexing.html#returning-a-view-versus-a-copy\n",
      "\n",
      "/var/folders/xt/0h_f_zjs1hvcdg6rdl1hs5_c0000gn/T/ipykernel_89900/1619899855.py:17: SettingWithCopyWarning:\n",
      "\n",
      "\n",
      "A value is trying to be set on a copy of a slice from a DataFrame.\n",
      "Try using .loc[row_indexer,col_indexer] = value instead\n",
      "\n",
      "See the caveats in the documentation: https://pandas.pydata.org/pandas-docs/stable/user_guide/indexing.html#returning-a-view-versus-a-copy\n",
      "\n",
      "/var/folders/xt/0h_f_zjs1hvcdg6rdl1hs5_c0000gn/T/ipykernel_89900/1619899855.py:20: SettingWithCopyWarning:\n",
      "\n",
      "\n",
      "A value is trying to be set on a copy of a slice from a DataFrame.\n",
      "Try using .loc[row_indexer,col_indexer] = value instead\n",
      "\n",
      "See the caveats in the documentation: https://pandas.pydata.org/pandas-docs/stable/user_guide/indexing.html#returning-a-view-versus-a-copy\n",
      "\n"
     ]
    }
   ],
   "source": [
    "# Filter rows where 'text_preprocessed' is not null\n",
    "filtered_df = descriptive_df[descriptive_df['text_preprocessed'].notnull()]\n",
    "\n",
    "# Basic descriptive statistics for the filtered data\n",
    "descriptive_stats_filtered = filtered_df.describe(include='all')\n",
    "print(\"Descriptive Statistics for Companies with Text Data:\")\n",
    "print(descriptive_stats_filtered)\n",
    "\n",
    "# Calculate average text length\n",
    "average_text_length = filtered_df['text_len'].mean()\n",
    "print(\"\\nAverage Text Length:\", average_text_length)\n",
    "\n",
    "# Convert 'founding_year' to datetime (assuming it's a full year)\n",
    "filtered_df['founding_year'] = pd.to_datetime(filtered_df['founding_year'], format='%Y', errors='coerce')\n",
    "\n",
    "# Convert 'Last Funding Date' to datetime\n",
    "filtered_df['Last Funding Date'] = pd.to_datetime(filtered_df['Last Funding Date'], errors='coerce')\n",
    "\n",
    "# Calculate the average distance in days between 'founding_year' and 'Last Funding Date'\n",
    "filtered_df['date_difference'] = (filtered_df['Last Funding Date'] - filtered_df['founding_year']).dt.days\n",
    "average_date_difference = filtered_df['date_difference'].mean()\n",
    "average_date_difference_years = (average_date_difference) / 365.25\n",
    "print(\"\\nAverage Days between Founding Year and Last Funding Date:\", average_date_difference, 'or ', average_date_difference_years, ' years.' )\n",
    "\n",
    "median_date_difference = filtered_df['date_difference'].median()\n",
    "median_date_difference_years = (median_date_difference)/ 365.25\n",
    "print(\"\\nMedian Days between Founding Year and Last Funding Date:\", median_date_difference, 'or ', median_date_difference_years, ' years.' )\n"
   ]
  },
  {
   "cell_type": "markdown",
   "metadata": {},
   "source": [
    "## Characteristics of Companies using AI"
   ]
  },
  {
   "cell_type": "markdown",
   "metadata": {},
   "source": [
    "### Total Funding per Investment Series"
   ]
  },
  {
   "cell_type": "code",
   "execution_count": 79,
   "metadata": {},
   "outputs": [
    {
     "data": {
      "text/html": [
       "<div>\n",
       "<style scoped>\n",
       "    .dataframe tbody tr th:only-of-type {\n",
       "        vertical-align: middle;\n",
       "    }\n",
       "\n",
       "    .dataframe tbody tr th {\n",
       "        vertical-align: top;\n",
       "    }\n",
       "\n",
       "    .dataframe thead th {\n",
       "        text-align: right;\n",
       "    }\n",
       "</style>\n",
       "<table border=\"1\" class=\"dataframe\">\n",
       "  <thead>\n",
       "    <tr style=\"text-align: right;\">\n",
       "      <th></th>\n",
       "      <th>Average Total Funding (All) (Million USD)</th>\n",
       "      <th>Average Total Funding (Keyword True) (Million USD)</th>\n",
       "      <th>Average Total Funding (AI True) (Million USD)</th>\n",
       "    </tr>\n",
       "    <tr>\n",
       "      <th>Funding Series</th>\n",
       "      <th></th>\n",
       "      <th></th>\n",
       "      <th></th>\n",
       "    </tr>\n",
       "  </thead>\n",
       "  <tbody>\n",
       "    <tr>\n",
       "      <th>Pre-Seed</th>\n",
       "      <td>0.247466</td>\n",
       "      <td>0.228641</td>\n",
       "      <td>0.233732</td>\n",
       "    </tr>\n",
       "    <tr>\n",
       "      <th>Seed</th>\n",
       "      <td>1.158925</td>\n",
       "      <td>1.495731</td>\n",
       "      <td>0.937061</td>\n",
       "    </tr>\n",
       "    <tr>\n",
       "      <th>Series A</th>\n",
       "      <td>12.436473</td>\n",
       "      <td>5.937500</td>\n",
       "      <td>10.021429</td>\n",
       "    </tr>\n",
       "    <tr>\n",
       "      <th>Series B</th>\n",
       "      <td>10.466667</td>\n",
       "      <td>NaN</td>\n",
       "      <td>NaN</td>\n",
       "    </tr>\n",
       "    <tr>\n",
       "      <th>Series D</th>\n",
       "      <td>0.000000</td>\n",
       "      <td>0.000000</td>\n",
       "      <td>NaN</td>\n",
       "    </tr>\n",
       "    <tr>\n",
       "      <th>Total</th>\n",
       "      <td>1209.082632</td>\n",
       "      <td>175.932850</td>\n",
       "      <td>211.798844</td>\n",
       "    </tr>\n",
       "  </tbody>\n",
       "</table>\n",
       "</div>"
      ],
      "text/plain": [
       "                Average Total Funding (All) (Million USD)  \\\n",
       "Funding Series                                              \n",
       "Pre-Seed                                         0.247466   \n",
       "Seed                                             1.158925   \n",
       "Series A                                        12.436473   \n",
       "Series B                                        10.466667   \n",
       "Series D                                         0.000000   \n",
       "Total                                         1209.082632   \n",
       "\n",
       "                Average Total Funding (Keyword True) (Million USD)  \\\n",
       "Funding Series                                                       \n",
       "Pre-Seed                                                 0.228641    \n",
       "Seed                                                     1.495731    \n",
       "Series A                                                 5.937500    \n",
       "Series B                                                      NaN    \n",
       "Series D                                                 0.000000    \n",
       "Total                                                  175.932850    \n",
       "\n",
       "                Average Total Funding (AI True) (Million USD)  \n",
       "Funding Series                                                 \n",
       "Pre-Seed                                             0.233732  \n",
       "Seed                                                 0.937061  \n",
       "Series A                                            10.021429  \n",
       "Series B                                                  NaN  \n",
       "Series D                                                  NaN  \n",
       "Total                                              211.798844  "
      ]
     },
     "metadata": {},
     "output_type": "display_data"
    }
   ],
   "source": [
    "# Mapping the 'Last Funding Type' column to a numerical scale\n",
    "descriptive_df['Funding Series'] = descriptive_df['Last Funding Type'].map(scale_mapper)\n",
    "\n",
    "# Defining function to calculate average funding scaled to millions of USD\n",
    "def calculate_average_funding(dataframe, condition=None):\n",
    "    if condition is not None:\n",
    "        dataframe = dataframe[dataframe[condition]]\n",
    "    # Divide by 10^6 to convert to millions\n",
    "    return dataframe.groupby('Funding Series')['Total Funding Amount Currency (in USD)'].mean() / 1e6\n",
    "\n",
    "# Defining funciton to calculate total funding scaled to millions of USD\n",
    "def calculate_total_funding(dataframe, condition=None):\n",
    "    if condition is not None:\n",
    "        dataframe = dataframe[dataframe[condition]]\n",
    "    # Divide by 10^6 to convert to millions\n",
    "    return dataframe['Total Funding Amount Currency (in USD)'].sum() / 1e6\n",
    "\n",
    "# Calculating average funding for each series overall\n",
    "average_funding_overall = calculate_average_funding(descriptive_df)\n",
    "\n",
    "# Calculating average funding for each series where keyword_bin is True\n",
    "average_funding_keyword = calculate_average_funding(descriptive_df, condition='keyword_bin')\n",
    "\n",
    "# Calculating average funding for each series where AI_bin is True\n",
    "average_funding_ai = calculate_average_funding(descriptive_df, condition='AI_bin')\n",
    "\n",
    "# Calculating total funding for the whole DataFrame and for conditions\n",
    "total_funding_overall = calculate_total_funding(descriptive_df)\n",
    "total_funding_keyword = calculate_total_funding(descriptive_df, condition='keyword_bin')\n",
    "total_funding_ai = calculate_total_funding(descriptive_df, condition='AI_bin')\n",
    "\n",
    "# Creating a DataFrame with the results\n",
    "funding_table = pd.DataFrame({\n",
    "    'Average Total Funding (All) (Million USD)': average_funding_overall,\n",
    "    'Average Total Funding (Keyword True) (Million USD)': average_funding_keyword,\n",
    "    'Average Total Funding (AI True) (Million USD)': average_funding_ai\n",
    "})\n",
    "\n",
    "# Appending a row with the total funding\n",
    "funding_table.loc['Total'] = [total_funding_overall, total_funding_keyword, total_funding_ai]\n",
    "\n",
    "# Mappping the index back to the series name for clarity, except for the 'Total' row\n",
    "index_mapper = {v: k for k, v in scale_mapper.items()}\n",
    "index_mapper['Total'] = 'Total'\n",
    "funding_table.index = funding_table.index.map(index_mapper)\n",
    "\n",
    "display(funding_table)\n"
   ]
  },
  {
   "cell_type": "markdown",
   "metadata": {},
   "source": [
    "# Exporting all relevant Datframes"
   ]
  },
  {
   "cell_type": "code",
   "execution_count": 80,
   "metadata": {},
   "outputs": [],
   "source": [
    "df.to_csv('Data/Working Dataframes/df.csv')\n",
    "scraped_df.to_csv('Data/Working Dataframes/scraped_df.csv')\n",
    "descriptive_df.to_csv('Data/Working Dataframes/descriptive_df.csv')"
   ]
  }
 ],
 "metadata": {
  "kernelspec": {
   "display_name": "base",
   "language": "python",
   "name": "python3"
  },
  "language_info": {
   "codemirror_mode": {
    "name": "ipython",
    "version": 3
   },
   "file_extension": ".py",
   "mimetype": "text/x-python",
   "name": "python",
   "nbconvert_exporter": "python",
   "pygments_lexer": "ipython3",
   "version": "3.9.13"
  }
 },
 "nbformat": 4,
 "nbformat_minor": 2
}
